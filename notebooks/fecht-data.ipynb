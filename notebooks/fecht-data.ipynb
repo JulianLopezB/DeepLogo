{
 "cells": [
  {
   "cell_type": "code",
   "execution_count": 1,
   "metadata": {},
   "outputs": [
    {
     "name": "stdout",
     "output_type": "stream",
     "text": [
      "/Users/julian/Desktop/Projects/DeepLogo\n"
     ]
    }
   ],
   "source": [
    "cd .."
   ]
  },
  {
   "cell_type": "code",
   "execution_count": 2,
   "metadata": {},
   "outputs": [],
   "source": [
    "%load_ext autoreload\n",
    "%autoreload 2"
   ]
  },
  {
   "cell_type": "code",
   "execution_count": 3,
   "metadata": {},
   "outputs": [],
   "source": [
    "from src.video_processing import *\n",
    "from src.fetch_data import *"
   ]
  },
  {
   "cell_type": "code",
   "execution_count": null,
   "metadata": {},
   "outputs": [],
   "source": [
    "#PATHS\n",
    "video_url = \"https://www.youtube.com/watch?v=2femix89pTE&t=4s\"\n",
    "#video_title = '2020 Eifel Grand Prix Race Highlights'\n",
    "video_title = get_video_id(video_url)\n",
    "video_category = 'F1'\n",
    "\n",
    "\n",
    "# GCLOUD STORAGE PARAMS\n",
    "bucket_name = 'videos-detection'\n",
    "video_category = 'F1'\n",
    "blob_path_video = f'videos_files/{video_category}/{video_title}/video.mp4'\n",
    "uri_video = f'gs://{bucket_name}/'+blob_path_video\n",
    "\n",
    "path_data = Path('./data')\n",
    "pathIn = path_data / str(video_title + '/input/')\n",
    "pathIn_Video = pathIn / str(video_title + '.mp4')\n",
    "pathIn_Frames =  pathIn / 'frames'\n",
    "pathIn_Frames_Resized = pathIn / 'frames_resized'\n",
    "\n",
    "pathOut = path_data / str(video_title + '/output/')\n",
    "path_results= pathOut / 'result.json'\n",
    "path_annotations = pathOut / 'annotations.csv'\n",
    "path_logos_video = pathOut / f'{video_title} - Logos.mp4'"
   ]
  },
  {
   "cell_type": "code",
   "execution_count": null,
   "metadata": {},
   "outputs": [],
   "source": [
    "implicit()"
   ]
  },
  {
   "cell_type": "code",
   "execution_count": 31,
   "metadata": {},
   "outputs": [],
   "source": [
    "create_bucket_class_location(f'videos-detection/videos_files/F1/{video_title}')"
   ]
  },
  {
   "cell_type": "code",
   "execution_count": 30,
   "metadata": {},
   "outputs": [
    {
     "name": "stdout",
     "output_type": "stream",
     "text": [
      "File ../data/Eifel Grand Prix - Recap/input/Eifel Grand Prix - Recap.mp4 uploaded to videos_files/F1/Eifel Grand Prix - Recap/video.mp4.\n"
     ]
    }
   ],
   "source": [
    "path_uri = f'videos_files/F1/{video_title}/video.mp4'\n",
    "upload_blob('videos-detection', str(pathIn_Video), path_uri)"
   ]
  },
  {
   "cell_type": "code",
   "execution_count": 32,
   "metadata": {},
   "outputs": [],
   "source": [
    "#upload_blob('videos-detection', str(pathIn / 'frames.zip'), 'F1 Hamilton/frames/')"
   ]
  },
  {
   "cell_type": "code",
   "execution_count": 37,
   "metadata": {},
   "outputs": [
    {
     "data": {
      "text/plain": [
       "True"
      ]
     },
     "execution_count": 37,
     "metadata": {},
     "output_type": "execute_result"
    }
   ],
   "source": [
    "is_stored(bucket_name, path_uri)"
   ]
  },
  {
   "cell_type": "code",
   "execution_count": 41,
   "metadata": {},
   "outputs": [],
   "source": [
    "url = generate_image_url('videos_files/F1/Eifel Grand Prix - Recap/video.mp4', 'videos-detection')"
   ]
  },
  {
   "cell_type": "code",
   "execution_count": 53,
   "metadata": {},
   "outputs": [
    {
     "data": {
      "text/plain": [
       "('Eifel Grand Prix - Recap.mp4', <http.client.HTTPMessage at 0x10b49a890>)"
      ]
     },
     "execution_count": 53,
     "metadata": {},
     "output_type": "execute_result"
    }
   ],
   "source": [
    "import urllib.request as req\n",
    "req.urlretrieve(video_url, str(video_title + '.mp4'))"
   ]
  },
  {
   "cell_type": "code",
   "execution_count": 46,
   "metadata": {},
   "outputs": [],
   "source": [
    "bucket_name = 'videos-detection'\n",
    "video_category = 'F1'\n",
    "blob_path_video = f'videos_files/{video_category}/{video_title}/video.mp4'\n",
    "uri_video = f'gs://{bucket_name}/'+blob_path_video"
   ]
  },
  {
   "cell_type": "code",
   "execution_count": 47,
   "metadata": {},
   "outputs": [
    {
     "data": {
      "text/plain": [
       "'gs://videos-detection/videos_files/F1/Eifel Grand Prix - Recap/video.mp4'"
      ]
     },
     "execution_count": 47,
     "metadata": {},
     "output_type": "execute_result"
    }
   ],
   "source": [
    "uri_video"
   ]
  },
  {
   "cell_type": "code",
   "execution_count": 48,
   "metadata": {},
   "outputs": [
    {
     "data": {
      "text/plain": [
       "'gs://videos-detection/videos_files/F1/Eifel Grand Prix - Recap/video.mp4'"
      ]
     },
     "execution_count": 48,
     "metadata": {},
     "output_type": "execute_result"
    }
   ],
   "source": [
    "'gs://videos-detection/videos_files/F1/Eifel Grand Prix - Recap/video.mp4'"
   ]
  },
  {
   "cell_type": "code",
   "execution_count": null,
   "metadata": {},
   "outputs": [],
   "source": []
  }
 ],
 "metadata": {
  "kernelspec": {
   "display_name": "Python 3",
   "language": "python",
   "name": "python3"
  },
  "language_info": {
   "codemirror_mode": {
    "name": "ipython",
    "version": 3
   },
   "file_extension": ".py",
   "mimetype": "text/x-python",
   "name": "python",
   "nbconvert_exporter": "python",
   "pygments_lexer": "ipython3",
   "version": "3.7.4"
  }
 },
 "nbformat": 4,
 "nbformat_minor": 2
}
