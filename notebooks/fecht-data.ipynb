{
 "cells": [
  {
   "cell_type": "code",
   "execution_count": 1,
   "metadata": {},
   "outputs": [],
   "source": [
    "from google.oauth2 import service_account\n",
    "from google.cloud import storage\n",
    "from pathlib import Path\n",
    "import datetime\n",
    "import os"
   ]
  },
  {
   "cell_type": "code",
   "execution_count": 50,
   "metadata": {},
   "outputs": [],
   "source": [
    "video_title = 'Eifel Grand Prix - Recap'\n",
    "\n",
    "video_url = \"https://www.youtube.com/watch?v=I84eb-B0l94\"\n",
    "\n",
    "path_data = Path('../data/')\n",
    "path_json = path_data / 'logo-detection.json'\n",
    "pathIn = path_data / str(video_title + '/input/')\n",
    "pathIn_Video = pathIn / str(video_title + '.mp4')\n",
    "pathIn_Frames =  pathIn / 'frames'\n",
    "pathIn_Frames_Resized = pathIn / 'frames_resized'\n",
    "\n",
    "pathOut = path_data / str(video_title + '/output/')\n",
    "path_annotations = pathOut / 'annotations.csv'\n",
    "path_logos_video = pathOut / 'Logos.mp4'"
   ]
  },
  {
   "cell_type": "code",
   "execution_count": 9,
   "metadata": {},
   "outputs": [],
   "source": [
    "credentials = service_account.Credentials.from_service_account_file(path_json)\n",
    "os.environ['GOOGLE_APPLICATION_CREDENTIALS'] = str(path_json)"
   ]
  },
  {
   "cell_type": "code",
   "execution_count": 10,
   "metadata": {},
   "outputs": [],
   "source": [
    "def implicit():\n",
    "    from google.cloud import storage\n",
    "\n",
    "    # If you don't specify credentials when constructing the client, the\n",
    "    # client library will look for credentials in the environment.\n",
    "    storage_client = storage.Client(credentials=credentials)\n",
    "\n",
    "    # Make an authenticated API request\n",
    "    buckets = list(storage_client.list_buckets())\n",
    "    print(buckets)"
   ]
  },
  {
   "cell_type": "code",
   "execution_count": 11,
   "metadata": {},
   "outputs": [],
   "source": [
    "def create_bucket_class_location(bucket_name):\n",
    "    \"\"\"Create a new bucket in specific location with storage class\"\"\"\n",
    "    # bucket_name = \"your-new-bucket-name\"\n",
    "\n",
    "    storage_client = storage.Client()\n",
    "\n",
    "    bucket = storage_client.bucket(bucket_name)\n",
    "    bucket.storage_class = \"COLDLINE\"\n",
    "    new_bucket = storage_client.create_bucket(bucket, location=\"us\")\n",
    "\n",
    "    print(\n",
    "        \"Created bucket {} in {} with storage class {}\".format(\n",
    "            new_bucket.name, new_bucket.location, new_bucket.storage_class\n",
    "        )\n",
    "    )\n",
    "    return new_bucket\n"
   ]
  },
  {
   "cell_type": "code",
   "execution_count": 28,
   "metadata": {},
   "outputs": [],
   "source": [
    "def upload_blob(bucket_name, source_file_name, destination_blob_name):\n",
    "    \"\"\"Uploads a file to the bucket.\"\"\"\n",
    "    # bucket_name = \"your-bucket-name\"\n",
    "    # source_file_name = \"local/path/to/file\"\n",
    "    # destination_blob_name = \"storage-object-name\"\n",
    "\n",
    "    #storage_client = storage.Client.from_service_account_json(str(path_json))\n",
    "    storage_client = storage.Client()\n",
    "    bucket = storage_client.bucket(bucket_name)\n",
    "    blob = bucket.blob(destination_blob_name)\n",
    "\n",
    "    blob.upload_from_filename(source_file_name, timeout=1000)\n",
    "\n",
    "    print(\n",
    "        \"File {} uploaded to {}.\".format(\n",
    "            source_file_name, destination_blob_name\n",
    "        )\n",
    "    )\n",
    "    \n",
    "    \n",
    "# def upload_blob(bucket_name, source_file_name, destination_blob_name):\n",
    "\n",
    "#     client = storage.Client()\n",
    "#     bucket = client.bucket(bucket_name)\n",
    "\n",
    "\n",
    "#     # Write file if necessary.\n",
    "#     blob = bucket.blob(destination_blob_name)\n",
    "#     if not blob.exists():\n",
    "#         print(f\"Writing {destination_blob_name}\")\n",
    "#         start = datetime.datetime.now()\n",
    "#         blob.upload_from_filename(source_file_name)\n",
    "#         end = datetime.datetime.now()\n",
    "#         print(f\"Wrote {destination_blob_name} {end-start}\")\n"
   ]
  },
  {
   "cell_type": "code",
   "execution_count": 13,
   "metadata": {},
   "outputs": [
    {
     "name": "stdout",
     "output_type": "stream",
     "text": [
      "[<Bucket: videos-detection>]\n"
     ]
    }
   ],
   "source": [
    "implicit()"
   ]
  },
  {
   "cell_type": "code",
   "execution_count": 31,
   "metadata": {},
   "outputs": [],
   "source": [
    "create_bucket_class_location(f'videos-detection/videos_files/F1/{video_title}')"
   ]
  },
  {
   "cell_type": "code",
   "execution_count": 30,
   "metadata": {},
   "outputs": [
    {
     "name": "stdout",
     "output_type": "stream",
     "text": [
      "File ../data/Eifel Grand Prix - Recap/input/Eifel Grand Prix - Recap.mp4 uploaded to videos_files/F1/Eifel Grand Prix - Recap/video.mp4.\n"
     ]
    }
   ],
   "source": [
    "path_uri = f'videos_files/F1/{video_title}/video.mp4'\n",
    "upload_blob('videos-detection', str(pathIn_Video), path_uri)"
   ]
  },
  {
   "cell_type": "code",
   "execution_count": 32,
   "metadata": {},
   "outputs": [],
   "source": [
    "#upload_blob('videos-detection', str(pathIn / 'frames.zip'), 'F1 Hamilton/frames/')"
   ]
  },
  {
   "cell_type": "code",
   "execution_count": 36,
   "metadata": {},
   "outputs": [],
   "source": [
    "def is_stored(bucket_name, path_uri):\n",
    "    storage_client = storage.Client()\n",
    "    bucket = storage_client.bucket(bucket_name)\n",
    "    stats = storage.Blob(bucket=bucket, name=path_uri).exists(storage_client)\n",
    "    return stats"
   ]
  },
  {
   "cell_type": "code",
   "execution_count": 37,
   "metadata": {},
   "outputs": [
    {
     "data": {
      "text/plain": [
       "True"
      ]
     },
     "execution_count": 37,
     "metadata": {},
     "output_type": "execute_result"
    }
   ],
   "source": [
    "is_stored(bucket_name, path_uri)"
   ]
  },
  {
   "cell_type": "code",
   "execution_count": 39,
   "metadata": {},
   "outputs": [],
   "source": [
    "def generate_image_url(blob_path, bucket_name):\n",
    "    \"\"\" generate signed URL of a video stored on google storage. \n",
    "        Valid for 300 seconds in this case. You can increase this \n",
    "        time as per your requirement. \n",
    "    \"\"\" \n",
    "    \n",
    "    client = storage.Client()\n",
    "    bucket = client.bucket(bucket_name)\n",
    "    blob = bucket.blob(blob_path) \n",
    "    return blob.generate_signed_url(datetime.timedelta(seconds=300), method='GET')"
   ]
  },
  {
   "cell_type": "code",
   "execution_count": 41,
   "metadata": {},
   "outputs": [],
   "source": [
    "url = generate_image_url('videos_files/F1/Eifel Grand Prix - Recap/video.mp4', 'videos-detection')"
   ]
  },
  {
   "cell_type": "code",
   "execution_count": 53,
   "metadata": {},
   "outputs": [
    {
     "data": {
      "text/plain": [
       "('Eifel Grand Prix - Recap.mp4', <http.client.HTTPMessage at 0x10b49a890>)"
      ]
     },
     "execution_count": 53,
     "metadata": {},
     "output_type": "execute_result"
    }
   ],
   "source": [
    "import urllib.request as req\n",
    "req.urlretrieve(video_url, str(video_title + '.mp4'))"
   ]
  },
  {
   "cell_type": "code",
   "execution_count": 46,
   "metadata": {},
   "outputs": [],
   "source": [
    "bucket_name = 'videos-detection'\n",
    "video_category = 'F1'\n",
    "blob_path_video = f'videos_files/{video_category}/{video_title}/video.mp4'\n",
    "uri_video = f'gs://{bucket_name}/'+blob_path_video"
   ]
  },
  {
   "cell_type": "code",
   "execution_count": 47,
   "metadata": {},
   "outputs": [
    {
     "data": {
      "text/plain": [
       "'gs://videos-detection/videos_files/F1/Eifel Grand Prix - Recap/video.mp4'"
      ]
     },
     "execution_count": 47,
     "metadata": {},
     "output_type": "execute_result"
    }
   ],
   "source": [
    "uri_video"
   ]
  },
  {
   "cell_type": "code",
   "execution_count": 48,
   "metadata": {},
   "outputs": [
    {
     "data": {
      "text/plain": [
       "'gs://videos-detection/videos_files/F1/Eifel Grand Prix - Recap/video.mp4'"
      ]
     },
     "execution_count": 48,
     "metadata": {},
     "output_type": "execute_result"
    }
   ],
   "source": [
    "'gs://videos-detection/videos_files/F1/Eifel Grand Prix - Recap/video.mp4'"
   ]
  },
  {
   "cell_type": "code",
   "execution_count": null,
   "metadata": {},
   "outputs": [],
   "source": []
  }
 ],
 "metadata": {
  "kernelspec": {
   "display_name": "Python 3",
   "language": "python",
   "name": "python3"
  },
  "language_info": {
   "codemirror_mode": {
    "name": "ipython",
    "version": 3
   },
   "file_extension": ".py",
   "mimetype": "text/x-python",
   "name": "python",
   "nbconvert_exporter": "python",
   "pygments_lexer": "ipython3",
   "version": "3.7.4"
  }
 },
 "nbformat": 4,
 "nbformat_minor": 2
}
