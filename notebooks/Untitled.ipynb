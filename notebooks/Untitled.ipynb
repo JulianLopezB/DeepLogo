{
 "cells": [
  {
   "cell_type": "code",
   "execution_count": 1,
   "metadata": {},
   "outputs": [
    {
     "name": "stdout",
     "output_type": "stream",
     "text": [
      "/Users/julian/Desktop/Projects/logo-detection/model\n"
     ]
    }
   ],
   "source": [
    "cd .."
   ]
  },
  {
   "cell_type": "code",
   "execution_count": null,
   "metadata": {},
   "outputs": [
    {
     "name": "stdout",
     "output_type": "stream",
     "text": [
      "Creating paths...\n",
      "Downloading video from https://www.youtube.com/watch?v=ulh7fdLJtlg...\n",
      "Video file already exists\n",
      "Getting video annotations from VideoIntelligence API...\n"
     ]
    },
    {
     "name": "stderr",
     "output_type": "stream",
     "text": [
      "\n",
      "KeyboardInterrupt\n",
      "\n"
     ]
    }
   ],
   "source": [
    "from src.video_processing import *\n",
    "\n",
    "# TODO: obtener el titulo de video de la url (libreria youtube)\n",
    "\n",
    "#PATHS\n",
    "video_url = \"https://www.youtube.com/watch?v=ulh7fdLJtlg\"\n",
    "\n",
    "video_title = '2020 Eifel Grand Prix: Qualifying Highlights'\n",
    "\n",
    "#video_uri = 'gs://videos-detection/videos_files/F1/2020 Eifel Grand Prix/2020 Eifel Grand Prix.mkv'\n",
    "\n",
    "\n",
    "pathIn = path_data / str(video_title + '/input/')\n",
    "pathIn_Video = pathIn / str(video_title + '.mkv')\n",
    "pathIn_Frames =  pathIn / 'frames'\n",
    "pathIn_Frames_Resized = pathIn / 'frames_resized'\n",
    "\n",
    "pathOut = path_data / str(video_title + '/output/')\n",
    "path_results= pathOut / 'result.json'\n",
    "path_annotations = pathOut / 'annotations.csv'\n",
    "path_logos_video = pathOut / 'Logos.mp4'\n",
    "\n",
    "#PARMAS\n",
    "credentials = service_account.Credentials.from_service_account_file(path_json)\n",
    "os.environ['GOOGLE_APPLICATION_CREDENTIALS'] = str(path_json)\n",
    "\n",
    "\n",
    "# FUNTCTIONS\n",
    "\n",
    "# Creates necssary paths\n",
    "print('Creating paths...')\n",
    "create_paths(pathOut, pathIn_Frames, pathIn_Frames_Resized)\n",
    "\n",
    "# Download Video\n",
    "print(f'Downloading video from {video_url}...')\n",
    "download_video(video_url, pathIn_Video)\n",
    "\n",
    "# aca habria q llamar a una funcion que suba el video a cloud storage\n",
    "\n",
    "# Generate annotated data from Google VideoIntelligence\n",
    "print('Getting video annotations from VideoIntelligence API...')\n",
    "result = get_video_anno(pathIn_Video, True)\n",
    "#result = annotate_video(video_uri)\n",
    "\n",
    "# Save annotations as json file\n",
    "print('Persisting video annotations...')\n",
    "persist_result(result, path_results)\n",
    "\n",
    "# Get frames from video and save them\n",
    "print('Saving video frames...')\n",
    "#video_to_frames(pathIn_Video, pathIn_Frames)\n",
    "video_url_to_frames(video_url, pathIn_Frames)\n",
    "\n",
    "# if file in gcloud\n",
    "# url = generate_image_url('F1 Hamilton.mp4', 'videos-detection')\n",
    "# req.urlretrieve(url, \"F1 Hamilton.mp4\")\n",
    "\n",
    "# Creates dataframe with annotations\n",
    "print('Creating dataframe with annotations...')\n",
    "DfLogos = anno_to_pandas(pathIn_Video, results)\n",
    "DfLogos = DfLogos.sort_values(by='frame')\n",
    "\n",
    "# Save annotations\n",
    "print('Saving annotations as csv file...')\n",
    "DfLogos.to_csv(str(path_annotations))\n"
   ]
  },
  {
   "cell_type": "code",
   "execution_count": null,
   "metadata": {},
   "outputs": [],
   "source": []
  }
 ],
 "metadata": {
  "kernelspec": {
   "display_name": "Python 3",
   "language": "python",
   "name": "python3"
  },
  "language_info": {
   "codemirror_mode": {
    "name": "ipython",
    "version": 3
   },
   "file_extension": ".py",
   "mimetype": "text/x-python",
   "name": "python",
   "nbconvert_exporter": "python",
   "pygments_lexer": "ipython3",
   "version": "3.7.4"
  }
 },
 "nbformat": 4,
 "nbformat_minor": 2
}
