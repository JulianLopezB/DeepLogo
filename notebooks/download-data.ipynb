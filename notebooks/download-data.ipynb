{
 "cells": [
  {
   "cell_type": "code",
   "execution_count": 1,
   "metadata": {},
   "outputs": [
    {
     "name": "stdout",
     "output_type": "stream",
     "text": [
      "/notebooks\n"
     ]
    }
   ],
   "source": [
    "cd .."
   ]
  },
  {
   "cell_type": "code",
   "execution_count": 2,
   "metadata": {},
   "outputs": [],
   "source": [
    "%load_ext autoreload\n",
    "%autoreload 2"
   ]
  },
  {
   "cell_type": "code",
   "execution_count": 3,
   "metadata": {},
   "outputs": [
    {
     "name": "stdout",
     "output_type": "stream",
     "text": [
      "Collecting numpy==1.19.1 (from -r requirements.txt (line 1))\n",
      "\u001b[?25l  Downloading https://files.pythonhosted.org/packages/b1/9a/7d474ba0860a41f771c9523d8c4ea56b084840b5ca4092d96bdee8a3b684/numpy-1.19.1-cp36-cp36m-manylinux2010_x86_64.whl (14.5MB)\n",
      "\u001b[K     |████████████████████████████████| 14.5MB 11.5MB/s eta 0:00:01\n",
      "\u001b[?25hCollecting pandas==1.1.2 (from -r requirements.txt (line 2))\n",
      "\u001b[?25l  Downloading https://files.pythonhosted.org/packages/1c/11/e1f53db0614f2721027aab297c8afd2eaf58d33d566441a97ea454541c5e/pandas-1.1.2-cp36-cp36m-manylinux1_x86_64.whl (10.5MB)\n",
      "\u001b[K     |████████████████████████████████| 10.5MB 36.0MB/s eta 0:00:01\n",
      "\u001b[?25hCollecting matplotlib==3.3.0 (from -r requirements.txt (line 3))\n",
      "\u001b[?25l  Downloading https://files.pythonhosted.org/packages/93/ae/81b1c98ae97350711adb021ee12ea678b37f608ec2faa35c3a7db11795fa/matplotlib-3.3.0-1-cp36-cp36m-manylinux1_x86_64.whl (11.5MB)\n",
      "\u001b[K     |████████████████████████████████| 11.5MB 46.5MB/s eta 0:00:01\n",
      "\u001b[?25hCollecting youtube_dl==2020.9.20 (from -r requirements.txt (line 4))\n",
      "\u001b[?25l  Downloading https://files.pythonhosted.org/packages/70/b4/c83b577bfb1be7c88dff10eecd70650eca7729b25135345108ea676e6f3b/youtube_dl-2020.9.20-py2.py3-none-any.whl (1.8MB)\n",
      "\u001b[K     |████████████████████████████████| 1.8MB 56.5MB/s eta 0:00:01\n",
      "\u001b[?25hCollecting tqdm==4.42.0 (from -r requirements.txt (line 5))\n",
      "\u001b[?25l  Downloading https://files.pythonhosted.org/packages/cc/2e/4307206db63f05ed37e21d4c0d843d0fbcacd62479f8ce99ba0f2c0875e0/tqdm-4.42.0-py2.py3-none-any.whl (59kB)\n",
      "\u001b[K     |████████████████████████████████| 61kB 31.9MB/s eta 0:00:01\n",
      "\u001b[?25hCollecting pafy==0.5.4 (from -r requirements.txt (line 6))\n",
      "  Downloading https://files.pythonhosted.org/packages/b0/e8/3516f761558525b00d3eaf73744eed5c267db20650b7b660674547e3e506/pafy-0.5.4-py2.py3-none-any.whl\n",
      "Collecting pytube3==9.6.4 (from -r requirements.txt (line 7))\n",
      "  Downloading https://files.pythonhosted.org/packages/de/86/198092763646eac7abd2063192ab44ea44ad8fd6d6f3ad8586b38afcd52a/pytube3-9.6.4-py3-none-any.whl\n",
      "Collecting opencv_contrib_python==4.1.1.26 (from -r requirements.txt (line 8))\n",
      "\u001b[?25l  Downloading https://files.pythonhosted.org/packages/33/9b/1f9ef069206002d0bbca80598193904ce1ae2a990e7465bc351b1264c7d8/opencv_contrib_python-4.1.1.26-cp36-cp36m-manylinux1_x86_64.whl (34.7MB)\n",
      "\u001b[K     |████████████████████████████████| 34.7MB 22.3MB/s eta 0:00:01\n",
      "\u001b[?25hCollecting google_api_python_client==1.12.3 (from -r requirements.txt (line 9))\n",
      "\u001b[?25l  Downloading https://files.pythonhosted.org/packages/51/9a/2976a839fffb35d341bdce0cb06f1f9da80b148bfe209c55d3e34e5cc146/google_api_python_client-1.12.3-py2.py3-none-any.whl (61kB)\n",
      "\u001b[K     |████████████████████████████████| 61kB 31.4MB/s eta 0:00:01\n",
      "\u001b[?25hCollecting Pillow==8.0.0 (from -r requirements.txt (line 10))\n",
      "\u001b[?25l  Downloading https://files.pythonhosted.org/packages/a6/9c/829c74f7f7f129616dfb6f75afd72529f895d29db71c7aeb46b02fcfb26d/Pillow-8.0.0-cp36-cp36m-manylinux1_x86_64.whl (2.2MB)\n",
      "\u001b[K     |████████████████████████████████| 2.2MB 51.7MB/s eta 0:00:01\n",
      "\u001b[?25hCollecting protobuf==3.13.0 (from -r requirements.txt (line 11))\n",
      "\u001b[?25l  Downloading https://files.pythonhosted.org/packages/30/79/510974552cebff2ba04038544799450defe75e96ea5f1675dbf72cc8744f/protobuf-3.13.0-cp36-cp36m-manylinux1_x86_64.whl (1.3MB)\n",
      "\u001b[K     |████████████████████████████████| 1.3MB 53.7MB/s eta 0:00:01\n",
      "\u001b[?25hCollecting pytube==9.6.0 (from -r requirements.txt (line 12))\n",
      "  Downloading https://files.pythonhosted.org/packages/0f/e5/d9e1d7ba18e8ddb91c0677811751106cf4aab547c9963a03e7744c22bea0/pytube-9.6.0-py3-none-any.whl\n",
      "Collecting scikit_learn==0.23.2 (from -r requirements.txt (line 13))\n",
      "\u001b[?25l  Downloading https://files.pythonhosted.org/packages/5c/a1/273def87037a7fb010512bbc5901c31cfddfca8080bc63b42b26e3cc55b3/scikit_learn-0.23.2-cp36-cp36m-manylinux1_x86_64.whl (6.8MB)\n",
      "\u001b[K     |████████████████████████████████| 6.8MB 48.1MB/s eta 0:00:01\n",
      "\u001b[?25hRequirement already satisfied: python-dateutil>=2.7.3 in /usr/local/lib/python3.6/dist-packages (from pandas==1.1.2->-r requirements.txt (line 2)) (2.8.0)\n",
      "Requirement already satisfied: pytz>=2017.2 in /usr/local/lib/python3.6/dist-packages (from pandas==1.1.2->-r requirements.txt (line 2)) (2019.2)\n",
      "Requirement already satisfied: pyparsing!=2.0.4,!=2.1.2,!=2.1.6,>=2.0.3 in /usr/local/lib/python3.6/dist-packages (from matplotlib==3.3.0->-r requirements.txt (line 3)) (2.4.2)\n",
      "Requirement already satisfied: cycler>=0.10 in /usr/local/lib/python3.6/dist-packages (from matplotlib==3.3.0->-r requirements.txt (line 3)) (0.10.0)\n",
      "Requirement already satisfied: kiwisolver>=1.0.1 in /usr/local/lib/python3.6/dist-packages (from matplotlib==3.3.0->-r requirements.txt (line 3)) (1.1.0)\n",
      "Collecting typing-extensions (from pytube3==9.6.4->-r requirements.txt (line 7))\n",
      "  Downloading https://files.pythonhosted.org/packages/60/7a/e881b5abb54db0e6e671ab088d079c57ce54e8a01a3ca443f561ccadb37e/typing_extensions-3.7.4.3-py3-none-any.whl\n",
      "Collecting google-auth-httplib2>=0.0.3 (from google_api_python_client==1.12.3->-r requirements.txt (line 9))\n",
      "  Downloading https://files.pythonhosted.org/packages/bd/4e/992849016f8b0c27fb604aafd0a7a724db16128906197bd1245c6f18e6a1/google_auth_httplib2-0.0.4-py2.py3-none-any.whl\n",
      "Collecting httplib2<1dev,>=0.15.0 (from google_api_python_client==1.12.3->-r requirements.txt (line 9))\n",
      "\u001b[?25l  Downloading https://files.pythonhosted.org/packages/b3/ad/d9d9331850ea5bd4f5cb8c650c0bfa119a4abd6b0ad7c45b6506bc979fc0/httplib2-0.18.1-py3-none-any.whl (95kB)\n",
      "\u001b[K     |████████████████████████████████| 102kB 38.4MB/s ta 0:00:01\n",
      "\u001b[?25hCollecting google-auth>=1.16.0 (from google_api_python_client==1.12.3->-r requirements.txt (line 9))\n",
      "\u001b[?25l  Downloading https://files.pythonhosted.org/packages/1f/cf/724b6436967a8be879c8de16b09fd80e0e7b0bcad462f5c09ee021605785/google_auth-1.22.1-py2.py3-none-any.whl (114kB)\n",
      "\u001b[K     |████████████████████████████████| 122kB 55.2MB/s eta 0:00:01\n",
      "\u001b[?25hCollecting six<2dev,>=1.13.0 (from google_api_python_client==1.12.3->-r requirements.txt (line 9))\n",
      "  Downloading https://files.pythonhosted.org/packages/ee/ff/48bde5c0f013094d729fe4b0316ba2a24774b3ff1c52d924a8a4cb04078a/six-1.15.0-py2.py3-none-any.whl\n",
      "Collecting google-api-core<2dev,>=1.21.0 (from google_api_python_client==1.12.3->-r requirements.txt (line 9))\n",
      "\u001b[?25l  Downloading https://files.pythonhosted.org/packages/2e/3d/d7af13040ab5b259994a4434ff03d68084a994e709bc8afa4bee1235310e/google_api_core-1.23.0-py2.py3-none-any.whl (91kB)\n",
      "\u001b[K     |████████████████████████████████| 92kB 23.8MB/s eta 0:00:01\n",
      "\u001b[?25hCollecting uritemplate<4dev,>=3.0.0 (from google_api_python_client==1.12.3->-r requirements.txt (line 9))\n",
      "  Downloading https://files.pythonhosted.org/packages/bf/0c/60d82c077998feb631608dca3cc1fe19ac074e772bf0c24cf409b977b815/uritemplate-3.0.1-py2.py3-none-any.whl\n",
      "Requirement already satisfied: setuptools in /usr/local/lib/python3.6/dist-packages (from protobuf==3.13.0->-r requirements.txt (line 11)) (41.0.1)\n",
      "Requirement already satisfied: scipy>=0.19.1 in /usr/local/lib/python3.6/dist-packages (from scikit_learn==0.23.2->-r requirements.txt (line 13)) (1.3.0)\n",
      "Collecting threadpoolctl>=2.0.0 (from scikit_learn==0.23.2->-r requirements.txt (line 13))\n",
      "  Downloading https://files.pythonhosted.org/packages/f7/12/ec3f2e203afa394a149911729357aa48affc59c20e2c1c8297a60f33f133/threadpoolctl-2.1.0-py3-none-any.whl\n",
      "Requirement already satisfied: joblib>=0.11 in /usr/local/lib/python3.6/dist-packages (from scikit_learn==0.23.2->-r requirements.txt (line 13)) (0.13.2)\n",
      "Collecting cachetools<5.0,>=2.0.0 (from google-auth>=1.16.0->google_api_python_client==1.12.3->-r requirements.txt (line 9))\n",
      "  Downloading https://files.pythonhosted.org/packages/cd/5c/f3aa86b6d5482f3051b433c7616668a9b96fbe49a622210e2c9781938a5c/cachetools-4.1.1-py3-none-any.whl\n",
      "Collecting rsa<5,>=3.1.4; python_version >= \"3.5\" (from google-auth>=1.16.0->google_api_python_client==1.12.3->-r requirements.txt (line 9))\n",
      "\u001b[?25l  Downloading https://files.pythonhosted.org/packages/1c/df/c3587a667d6b308fadc90b99e8bc8774788d033efcc70f4ecaae7fad144b/rsa-4.6-py3-none-any.whl (47kB)\n",
      "\u001b[K     |████████████████████████████████| 51kB 31.9MB/s eta 0:00:01\n",
      "\u001b[?25hCollecting pyasn1-modules>=0.2.1 (from google-auth>=1.16.0->google_api_python_client==1.12.3->-r requirements.txt (line 9))\n",
      "\u001b[?25l  Downloading https://files.pythonhosted.org/packages/95/de/214830a981892a3e286c3794f41ae67a4495df1108c3da8a9f62159b9a9d/pyasn1_modules-0.2.8-py2.py3-none-any.whl (155kB)\n",
      "\u001b[K     |████████████████████████████████| 163kB 49.9MB/s eta 0:00:01\n",
      "\u001b[?25hCollecting googleapis-common-protos<2.0dev,>=1.6.0 (from google-api-core<2dev,>=1.21.0->google_api_python_client==1.12.3->-r requirements.txt (line 9))\n",
      "\u001b[?25l  Downloading https://files.pythonhosted.org/packages/03/74/3956721ea1eb4bcf7502a311fdaa60b85bd751de4e57d1943afe9b334141/googleapis_common_protos-1.52.0-py2.py3-none-any.whl (100kB)\n",
      "\u001b[K     |████████████████████████████████| 102kB 35.4MB/s ta 0:00:01\n",
      "\u001b[?25hCollecting requests<3.0.0dev,>=2.18.0 (from google-api-core<2dev,>=1.21.0->google_api_python_client==1.12.3->-r requirements.txt (line 9))\n",
      "\u001b[?25l  Downloading https://files.pythonhosted.org/packages/45/1e/0c169c6a5381e241ba7404532c16a21d86ab872c9bed8bdcd4c423954103/requests-2.24.0-py2.py3-none-any.whl (61kB)\n",
      "\u001b[K     |████████████████████████████████| 71kB 34.7MB/s eta 0:00:01\n",
      "\u001b[?25hCollecting pyasn1>=0.1.3 (from rsa<5,>=3.1.4; python_version >= \"3.5\"->google-auth>=1.16.0->google_api_python_client==1.12.3->-r requirements.txt (line 9))\n",
      "\u001b[?25l  Downloading https://files.pythonhosted.org/packages/62/1e/a94a8d635fa3ce4cfc7f506003548d0a2447ae76fd5ca53932970fe3053f/pyasn1-0.4.8-py2.py3-none-any.whl (77kB)\n",
      "\u001b[K     |████████████████████████████████| 81kB 34.5MB/s eta 0:00:01\n",
      "\u001b[?25hCollecting urllib3!=1.25.0,!=1.25.1,<1.26,>=1.21.1 (from requests<3.0.0dev,>=2.18.0->google-api-core<2dev,>=1.21.0->google_api_python_client==1.12.3->-r requirements.txt (line 9))\n",
      "\u001b[?25l  Downloading https://files.pythonhosted.org/packages/56/aa/4ef5aa67a9a62505db124a5cb5262332d1d4153462eb8fd89c9fa41e5d92/urllib3-1.25.11-py2.py3-none-any.whl (127kB)\n",
      "\u001b[K     |████████████████████████████████| 133kB 50.1MB/s eta 0:00:01\n",
      "\u001b[?25hCollecting certifi>=2017.4.17 (from requests<3.0.0dev,>=2.18.0->google-api-core<2dev,>=1.21.0->google_api_python_client==1.12.3->-r requirements.txt (line 9))\n",
      "\u001b[?25l  Downloading https://files.pythonhosted.org/packages/5e/c4/6c4fe722df5343c33226f0b4e0bb042e4dc13483228b4718baf286f86d87/certifi-2020.6.20-py2.py3-none-any.whl (156kB)\n",
      "\u001b[K     |████████████████████████████████| 163kB 47.1MB/s eta 0:00:01\n",
      "\u001b[?25hCollecting chardet<4,>=3.0.2 (from requests<3.0.0dev,>=2.18.0->google-api-core<2dev,>=1.21.0->google_api_python_client==1.12.3->-r requirements.txt (line 9))\n",
      "\u001b[?25l  Downloading https://files.pythonhosted.org/packages/bc/a9/01ffebfb562e4274b6487b4bb1ddec7ca55ec7510b22e4c51f14098443b8/chardet-3.0.4-py2.py3-none-any.whl (133kB)\n",
      "\u001b[K     |████████████████████████████████| 143kB 38.0MB/s eta 0:00:01\n",
      "\u001b[?25hCollecting idna<3,>=2.5 (from requests<3.0.0dev,>=2.18.0->google-api-core<2dev,>=1.21.0->google_api_python_client==1.12.3->-r requirements.txt (line 9))\n",
      "\u001b[?25l  Downloading https://files.pythonhosted.org/packages/a2/38/928ddce2273eaa564f6f50de919327bf3a00f091b5baba8dfa9460f3a8a8/idna-2.10-py2.py3-none-any.whl (58kB)\n",
      "\u001b[K     |████████████████████████████████| 61kB 29.6MB/s eta 0:00:01\n",
      "\u001b[?25hInstalling collected packages: numpy, pandas, Pillow, matplotlib, youtube-dl, tqdm, pafy, typing-extensions, pytube3, opencv-contrib-python, cachetools, pyasn1, rsa, pyasn1-modules, six, google-auth, httplib2, google-auth-httplib2, protobuf, googleapis-common-protos, urllib3, certifi, chardet, idna, requests, google-api-core, uritemplate, google-api-python-client, pytube, threadpoolctl, scikit-learn\n",
      "  Found existing installation: numpy 1.17.0\n",
      "    Uninstalling numpy-1.17.0:\n",
      "      Successfully uninstalled numpy-1.17.0\n",
      "  Found existing installation: pandas 0.25.0\n",
      "    Uninstalling pandas-0.25.0:\n",
      "      Successfully uninstalled pandas-0.25.0\n",
      "  Found existing installation: Pillow 6.1.0\n",
      "    Uninstalling Pillow-6.1.0:\n",
      "      Successfully uninstalled Pillow-6.1.0\n",
      "  Found existing installation: matplotlib 3.1.1\n",
      "    Uninstalling matplotlib-3.1.1:\n",
      "      Successfully uninstalled matplotlib-3.1.1\n",
      "  Found existing installation: six 1.12.0\n",
      "    Uninstalling six-1.12.0:\n",
      "      Successfully uninstalled six-1.12.0\n",
      "  Found existing installation: protobuf 3.9.1\n",
      "    Uninstalling protobuf-3.9.1:\n",
      "      Successfully uninstalled protobuf-3.9.1\n",
      "  Found existing installation: scikit-learn 0.21.3\n",
      "    Uninstalling scikit-learn-0.21.3:\n",
      "      Successfully uninstalled scikit-learn-0.21.3\n",
      "Successfully installed Pillow-8.0.0 cachetools-4.1.1 certifi-2020.6.20 chardet-3.0.4 google-api-core-1.23.0 google-api-python-client-1.12.3 google-auth-1.22.1 google-auth-httplib2-0.0.4 googleapis-common-protos-1.52.0 httplib2-0.18.1 idna-2.10 matplotlib-3.3.0 numpy-1.19.1 opencv-contrib-python-4.1.1.26 pafy-0.5.4 pandas-1.1.2 protobuf-3.13.0 pyasn1-0.4.8 pyasn1-modules-0.2.8 pytube-9.6.0 pytube3-9.6.4 requests-2.24.0 rsa-4.6 scikit-learn-0.23.2 six-1.15.0 threadpoolctl-2.1.0 tqdm-4.42.0 typing-extensions-3.7.4.3 uritemplate-3.0.1 urllib3-1.25.11 youtube-dl-2020.9.20\n",
      "\u001b[33mWARNING: You are using pip version 19.2.1, however version 20.2.4 is available.\n",
      "You should consider upgrading via the 'pip install --upgrade pip' command.\u001b[0m\n",
      "Collecting google-cloud-storage\n",
      "\u001b[?25l  Downloading https://files.pythonhosted.org/packages/bf/02/0c48179c0917e72e7853dcb24382ecfd4a6eb814fe881713f809825d26eb/google_cloud_storage-1.32.0-py2.py3-none-any.whl (92kB)\n",
      "\u001b[K     |████████████████████████████████| 92kB 11.0MB/s eta 0:00:01\n",
      "\u001b[?25hRequirement already satisfied, skipping upgrade: google-auth<2.0dev,>=1.11.0 in /usr/local/lib/python3.6/dist-packages (from google-cloud-storage) (1.22.1)\n",
      "Collecting google-resumable-media<2.0dev,>=1.0.0 (from google-cloud-storage)\n",
      "\u001b[?25l  Downloading https://files.pythonhosted.org/packages/52/4a/2dacac52a969aa4bdefeaedf555e972cc56f12fba4284dc41be7ffc42e69/google_resumable_media-1.1.0-py2.py3-none-any.whl (75kB)\n",
      "\u001b[K     |████████████████████████████████| 81kB 16.3MB/s eta 0:00:01\n",
      "\u001b[?25hCollecting google-cloud-core<2.0dev,>=1.4.1 (from google-cloud-storage)\n",
      "  Downloading https://files.pythonhosted.org/packages/8c/00/24a1d64e7340485302d6ca5bc7328ac8a8ec785d2ae1dae12e0750b202cb/google_cloud_core-1.4.3-py2.py3-none-any.whl\n",
      "Requirement already satisfied, skipping upgrade: requests<3.0.0dev,>=2.18.0 in /usr/local/lib/python3.6/dist-packages (from google-cloud-storage) (2.24.0)\n",
      "Requirement already satisfied, skipping upgrade: setuptools>=40.3.0 in /usr/local/lib/python3.6/dist-packages (from google-auth<2.0dev,>=1.11.0->google-cloud-storage) (41.0.1)\n",
      "Requirement already satisfied, skipping upgrade: pyasn1-modules>=0.2.1 in /usr/local/lib/python3.6/dist-packages (from google-auth<2.0dev,>=1.11.0->google-cloud-storage) (0.2.8)\n",
      "Requirement already satisfied, skipping upgrade: rsa<5,>=3.1.4; python_version >= \"3.5\" in /usr/local/lib/python3.6/dist-packages (from google-auth<2.0dev,>=1.11.0->google-cloud-storage) (4.6)\n",
      "Requirement already satisfied, skipping upgrade: cachetools<5.0,>=2.0.0 in /usr/local/lib/python3.6/dist-packages (from google-auth<2.0dev,>=1.11.0->google-cloud-storage) (4.1.1)\n",
      "Requirement already satisfied, skipping upgrade: six>=1.9.0 in /usr/local/lib/python3.6/dist-packages (from google-auth<2.0dev,>=1.11.0->google-cloud-storage) (1.15.0)\n",
      "Collecting google-crc32c<2.0dev,>=1.0; python_version >= \"3.5\" (from google-resumable-media<2.0dev,>=1.0.0->google-cloud-storage)\n",
      "  Downloading https://files.pythonhosted.org/packages/72/4a/399443af2bb5596c5ea1f575c39b8a0e3d6823e31fa6de2bee9bffc84553/google_crc32c-1.0.0-cp36-cp36m-manylinux2010_x86_64.whl\n",
      "Requirement already satisfied, skipping upgrade: google-api-core<2.0.0dev,>=1.19.0 in /usr/local/lib/python3.6/dist-packages (from google-cloud-core<2.0dev,>=1.4.1->google-cloud-storage) (1.23.0)\n",
      "Requirement already satisfied, skipping upgrade: chardet<4,>=3.0.2 in /usr/local/lib/python3.6/dist-packages (from requests<3.0.0dev,>=2.18.0->google-cloud-storage) (3.0.4)\n",
      "Requirement already satisfied, skipping upgrade: urllib3!=1.25.0,!=1.25.1,<1.26,>=1.21.1 in /usr/local/lib/python3.6/dist-packages (from requests<3.0.0dev,>=2.18.0->google-cloud-storage) (1.25.11)\n",
      "Requirement already satisfied, skipping upgrade: certifi>=2017.4.17 in /usr/local/lib/python3.6/dist-packages (from requests<3.0.0dev,>=2.18.0->google-cloud-storage) (2020.6.20)\n",
      "Requirement already satisfied, skipping upgrade: idna<3,>=2.5 in /usr/local/lib/python3.6/dist-packages (from requests<3.0.0dev,>=2.18.0->google-cloud-storage) (2.10)\n",
      "Requirement already satisfied, skipping upgrade: pyasn1<0.5.0,>=0.4.6 in /usr/local/lib/python3.6/dist-packages (from pyasn1-modules>=0.2.1->google-auth<2.0dev,>=1.11.0->google-cloud-storage) (0.4.8)\n",
      "Collecting cffi>=1.0.0 (from google-crc32c<2.0dev,>=1.0; python_version >= \"3.5\"->google-resumable-media<2.0dev,>=1.0.0->google-cloud-storage)\n",
      "\u001b[?25l  Downloading https://files.pythonhosted.org/packages/50/ca/bbca0fd95b24a1d4f0d2e016f09f35ae68d4fe72bf34cc538d0a0d2d3e10/cffi-1.14.3-cp36-cp36m-manylinux1_x86_64.whl (400kB)\n",
      "\u001b[K     |████████████████████████████████| 409kB 21.1MB/s eta 0:00:01\n",
      "\u001b[?25hRequirement already satisfied, skipping upgrade: pytz in /usr/local/lib/python3.6/dist-packages (from google-api-core<2.0.0dev,>=1.19.0->google-cloud-core<2.0dev,>=1.4.1->google-cloud-storage) (2019.2)\n",
      "Requirement already satisfied, skipping upgrade: googleapis-common-protos<2.0dev,>=1.6.0 in /usr/local/lib/python3.6/dist-packages (from google-api-core<2.0.0dev,>=1.19.0->google-cloud-core<2.0dev,>=1.4.1->google-cloud-storage) (1.52.0)\n",
      "Requirement already satisfied, skipping upgrade: protobuf>=3.12.0 in /usr/local/lib/python3.6/dist-packages (from google-api-core<2.0.0dev,>=1.19.0->google-cloud-core<2.0dev,>=1.4.1->google-cloud-storage) (3.13.0)\n",
      "Collecting pycparser (from cffi>=1.0.0->google-crc32c<2.0dev,>=1.0; python_version >= \"3.5\"->google-resumable-media<2.0dev,>=1.0.0->google-cloud-storage)\n",
      "\u001b[?25l  Downloading https://files.pythonhosted.org/packages/ae/e7/d9c3a176ca4b02024debf82342dab36efadfc5776f9c8db077e8f6e71821/pycparser-2.20-py2.py3-none-any.whl (112kB)\n",
      "\u001b[K     |████████████████████████████████| 112kB 33.1MB/s eta 0:00:01\n",
      "\u001b[?25hInstalling collected packages: pycparser, cffi, google-crc32c, google-resumable-media, google-cloud-core, google-cloud-storage\n",
      "Successfully installed cffi-1.14.3 google-cloud-core-1.4.3 google-cloud-storage-1.32.0 google-crc32c-1.0.0 google-resumable-media-1.1.0 pycparser-2.20\n",
      "\u001b[33mWARNING: You are using pip version 19.2.1, however version 20.2.4 is available.\n",
      "You should consider upgrading via the 'pip install --upgrade pip' command.\u001b[0m\n",
      "Requirement already up-to-date: six in /usr/local/lib/python3.6/dist-packages (1.15.0)\n",
      "\u001b[33mWARNING: You are using pip version 19.2.1, however version 20.2.4 is available.\n",
      "You should consider upgrading via the 'pip install --upgrade pip' command.\u001b[0m\n"
     ]
    }
   ],
   "source": [
    "!pip install -r requirements.txt\n",
    "!pip install --upgrade google-cloud-storage\n",
    "!pip install --upgrade six"
   ]
  },
  {
   "cell_type": "code",
   "execution_count": 5,
   "metadata": {},
   "outputs": [],
   "source": [
    "from src.fetch_data import *\n",
    "from google.cloud import storage\n",
    "import zipfile"
   ]
  },
  {
   "cell_type": "code",
   "execution_count": 6,
   "metadata": {},
   "outputs": [],
   "source": [
    "storage_client = storage.Client(credentials=credentials)"
   ]
  },
  {
   "cell_type": "code",
   "execution_count": 7,
   "metadata": {},
   "outputs": [],
   "source": [
    "bucket_name = 'videos-detection'\n",
    "bucket = storage_client.get_bucket(bucket_name)"
   ]
  },
  {
   "cell_type": "code",
   "execution_count": 8,
   "metadata": {},
   "outputs": [
    {
     "name": "stdout",
     "output_type": "stream",
     "text": [
      "videos_files/\n",
      "videos_files/F1/\n",
      "videos_files/F1/2femix89pTE/annotations.csv\n",
      "videos_files/F1/2femix89pTE/data.csv\n",
      "videos_files/F1/2femix89pTE/frames.zip\n",
      "videos_files/F1/2femix89pTE/results.json\n",
      "videos_files/F1/2femix89pTE/video.mp4\n",
      "videos_files/F1/EmZtTd1YRmA/annotations.csv\n",
      "videos_files/F1/EmZtTd1YRmA/data.csv\n",
      "videos_files/F1/EmZtTd1YRmA/frames.zip\n",
      "videos_files/F1/EmZtTd1YRmA/results.json\n",
      "videos_files/F1/EmZtTd1YRmA/video.mp4\n",
      "videos_files/F1/F1 Hamilton/\n",
      "videos_files/F1/F1 Hamilton/F1 Hamilton.mp4\n",
      "videos_files/F1/F1 Hamilton/annotations.csv\n",
      "videos_files/F1/F1 Hamilton/data.csv\n",
      "videos_files/F1/F1 Hamilton/result.json\n",
      "videos_files/F1/R-Yq1AlIwsc/annotations.csv\n",
      "videos_files/F1/R-Yq1AlIwsc/data.csv\n",
      "videos_files/F1/R-Yq1AlIwsc/frames.zip\n",
      "videos_files/F1/R-Yq1AlIwsc/results.json\n",
      "videos_files/F1/R-Yq1AlIwsc/video.mp4\n",
      "videos_files/F1/TB5yhZdF8SI/annotations.csv\n",
      "videos_files/F1/TB5yhZdF8SI/data.csv\n",
      "videos_files/F1/TB5yhZdF8SI/frames.zip\n",
      "videos_files/F1/TB5yhZdF8SI/results.json\n",
      "videos_files/F1/TB5yhZdF8SI/video.mp4\n",
      "videos_files/Tennis/\n",
      "videos_files/Tennis/Roland Garros.mp4\n"
     ]
    }
   ],
   "source": [
    "# file_id = \"data.csv\" # File Name.\n",
    "# #folder= \"/google-cloud/download/{}\".format(table_id)\n",
    "# # Excluding any directory from the bucket.\n",
    "# delimiter='/'\n",
    "\n",
    "# List all objects that satisfy the filter.\n",
    "#blobs=bucket.list_blobs(prefix=file_id, delimiter=delimiter)\n",
    "blobs = storage_client.list_blobs(bucket_name)\n",
    "\n",
    "for blob in blobs:\n",
    "    print(blob.name)"
   ]
  },
  {
   "cell_type": "code",
   "execution_count": 9,
   "metadata": {},
   "outputs": [],
   "source": [
    "def download_blob(bucket_name, source_blob_name, destination_file_name):\n",
    "    \"\"\"Downloads a blob from the bucket.\"\"\"\n",
    "    # bucket_name = \"your-bucket-name\"\n",
    "    # source_blob_name = \"storage-object-name\"\n",
    "    # destination_file_name = \"local/path/to/file\"\n",
    "\n",
    "    storage_client = storage.Client()\n",
    "\n",
    "    bucket = storage_client.bucket(bucket_name)\n",
    "    blob = bucket.blob(source_blob_name)\n",
    "    blob.download_to_filename(destination_file_name)\n",
    "\n",
    "    print(\n",
    "        \"Blob {} downloaded to {}.\".format(\n",
    "            source_blob_name, destination_file_name\n",
    "        )\n",
    "    )"
   ]
  },
  {
   "cell_type": "code",
   "execution_count": 10,
   "metadata": {},
   "outputs": [],
   "source": [
    "list_videos = ['EmZtTd1YRmA', '2femix89pTE', 'R-Yq1AlIwsc', 'TB5yhZdF8SI']"
   ]
  },
  {
   "cell_type": "code",
   "execution_count": 11,
   "metadata": {},
   "outputs": [],
   "source": [
    "for vid in list_videos:\n",
    "    if not os.path.exists(f'data/videos/{vid}/'):\n",
    "            os.makedirs(f'data/videos/{vid}/')"
   ]
  },
  {
   "cell_type": "code",
   "execution_count": 13,
   "metadata": {},
   "outputs": [
    {
     "name": "stdout",
     "output_type": "stream",
     "text": [
      "Blob videos_files/F1/EmZtTd1YRmA/data.csv downloaded to data/EmZtTd1YRmA/datos.csv.\n",
      "Blob videos_files/F1/EmZtTd1YRmA/frames.zip downloaded to data/EmZtTd1YRmA/frames.zip.\n",
      "Blob videos_files/F1/2femix89pTE/data.csv downloaded to data/2femix89pTE/datos.csv.\n",
      "Blob videos_files/F1/2femix89pTE/frames.zip downloaded to data/2femix89pTE/frames.zip.\n",
      "Blob videos_files/F1/R-Yq1AlIwsc/data.csv downloaded to data/R-Yq1AlIwsc/datos.csv.\n",
      "Blob videos_files/F1/R-Yq1AlIwsc/frames.zip downloaded to data/R-Yq1AlIwsc/frames.zip.\n",
      "Blob videos_files/F1/TB5yhZdF8SI/data.csv downloaded to data/TB5yhZdF8SI/datos.csv.\n",
      "Blob videos_files/F1/TB5yhZdF8SI/frames.zip downloaded to data/TB5yhZdF8SI/frames.zip.\n"
     ]
    }
   ],
   "source": [
    "for vid in list_videos:\n",
    "    try:\n",
    "        download_blob(bucket_name, f'videos_files/F1/{vid}/data.csv', f'data/videos/{vid}/datos.csv')\n",
    "        download_blob(bucket_name, f'videos_files/F1/{vid}/frames.zip', f'data/videos/{vid}/frames.zip')\n",
    "    except:\n",
    "        pass"
   ]
  },
  {
   "cell_type": "code",
   "execution_count": 14,
   "metadata": {},
   "outputs": [],
   "source": [
    "for vid in list_videos:\n",
    "    with zipfile.ZipFile(f'data/videos/{vid}/frames.zip', 'r') as zip_ref:\n",
    "            zip_ref.extractall(f'data/videos/{vid}/frames/')"
   ]
  },
  {
   "cell_type": "code",
   "execution_count": null,
   "metadata": {},
   "outputs": [],
   "source": [
    "# os.system(f\"unzip data/F1/{vid}/frames.zip -d data/{vid}/frames_resized/\")\n",
    "#         with zipfile.ZipFile(f'data/{vid}/frames.zip', 'r') as zip_ref:\n",
    "#             zip_ref.extractall(f'frames/')"
   ]
  },
  {
   "cell_type": "code",
   "execution_count": null,
   "metadata": {},
   "outputs": [],
   "source": []
  }
 ],
 "metadata": {
  "kernelspec": {
   "display_name": "Python 3",
   "language": "python",
   "name": "python3"
  },
  "language_info": {
   "codemirror_mode": {
    "name": "ipython",
    "version": 3
   },
   "file_extension": ".py",
   "mimetype": "text/x-python",
   "name": "python",
   "nbconvert_exporter": "python",
   "pygments_lexer": "ipython3",
   "version": "3.6.8"
  }
 },
 "nbformat": 4,
 "nbformat_minor": 4
}
