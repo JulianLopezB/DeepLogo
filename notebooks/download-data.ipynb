{
 "cells": [
  {
   "cell_type": "markdown",
   "metadata": {},
   "source": [
    "[![Open In Colab](https://colab.research.google.com/assets/colab-badge.svg)](https://colab.research.google.com/github/googlecolab/colabtools/blob/master/notebooks/colab-github-demo.ipynb)"
   ]
  },
  {
   "cell_type": "code",
   "execution_count": 1,
   "metadata": {},
   "outputs": [
    {
     "name": "stdout",
     "output_type": "stream",
     "text": [
      "/notebooks\n"
     ]
    }
   ],
   "source": [
    "cd .."
   ]
  },
  {
   "cell_type": "code",
   "execution_count": 2,
   "metadata": {},
   "outputs": [],
   "source": [
    "%load_ext autoreload\n",
    "%autoreload 2"
   ]
  },
  {
   "cell_type": "code",
   "execution_count": 3,
   "metadata": {},
   "outputs": [],
   "source": [
    "# !pip install -r requirements.txt\n",
    "# !pip install --upgrade google-cloud-storage\n",
    "# !pip install --upgrade six"
   ]
  },
  {
   "cell_type": "code",
   "execution_count": 4,
   "metadata": {},
   "outputs": [],
   "source": [
    "import os\n",
    "from src.fetch_data import *\n",
    "from google.cloud import storage\n",
    "import zipfile"
   ]
  },
  {
   "cell_type": "code",
   "execution_count": 5,
   "metadata": {},
   "outputs": [],
   "source": [
    "storage_client = storage.Client(credentials=credentials)"
   ]
  },
  {
   "cell_type": "code",
   "execution_count": 6,
   "metadata": {},
   "outputs": [],
   "source": [
    "bucket_name = 'videos-detection'\n",
    "bucket = storage_client.get_bucket(bucket_name)"
   ]
  },
  {
   "cell_type": "code",
   "execution_count": 7,
   "metadata": {},
   "outputs": [
    {
     "name": "stdout",
     "output_type": "stream",
     "text": [
      "videos_files/\n",
      "videos_files/F1/\n",
      "videos_files/F1/2femix89pTE/annotations.csv\n",
      "videos_files/F1/2femix89pTE/data.csv\n",
      "videos_files/F1/2femix89pTE/frames.zip\n",
      "videos_files/F1/2femix89pTE/results.json\n",
      "videos_files/F1/2femix89pTE/video.mp4\n",
      "videos_files/F1/EmZtTd1YRmA/annotations.csv\n",
      "videos_files/F1/EmZtTd1YRmA/data.csv\n",
      "videos_files/F1/EmZtTd1YRmA/frames.zip\n",
      "videos_files/F1/EmZtTd1YRmA/results.json\n",
      "videos_files/F1/EmZtTd1YRmA/video.mp4\n",
      "videos_files/F1/F1 Hamilton/\n",
      "videos_files/F1/F1 Hamilton/F1 Hamilton.mp4\n",
      "videos_files/F1/F1 Hamilton/annotations.csv\n",
      "videos_files/F1/F1 Hamilton/data.csv\n",
      "videos_files/F1/F1 Hamilton/result.json\n",
      "videos_files/F1/R-Yq1AlIwsc/annotations.csv\n",
      "videos_files/F1/R-Yq1AlIwsc/data.csv\n",
      "videos_files/F1/R-Yq1AlIwsc/frames.zip\n",
      "videos_files/F1/R-Yq1AlIwsc/results.json\n",
      "videos_files/F1/R-Yq1AlIwsc/video.mp4\n",
      "videos_files/F1/TB5yhZdF8SI/annotations.csv\n",
      "videos_files/F1/TB5yhZdF8SI/data.csv\n",
      "videos_files/F1/TB5yhZdF8SI/frames.zip\n",
      "videos_files/F1/TB5yhZdF8SI/results.json\n",
      "videos_files/F1/TB5yhZdF8SI/video.mp4\n",
      "videos_files/Tennis/\n",
      "videos_files/Tennis/Roland Garros.mp4\n"
     ]
    }
   ],
   "source": [
    "# file_id = \"data.csv\" # File Name.\n",
    "# #folder= \"/google-cloud/download/{}\".format(table_id)\n",
    "# # Excluding any directory from the bucket.\n",
    "# delimiter='/'\n",
    "\n",
    "# List all objects that satisfy the filter.\n",
    "#blobs=bucket.list_blobs(prefix=file_id, delimiter=delimiter)\n",
    "blobs = storage_client.list_blobs(bucket_name)\n",
    "\n",
    "for blob in blobs:\n",
    "    print(blob.name)"
   ]
  },
  {
   "cell_type": "code",
   "execution_count": 8,
   "metadata": {},
   "outputs": [],
   "source": [
    "def download_blob(bucket_name, source_blob_name, destination_file_name):\n",
    "    \"\"\"Downloads a blob from the bucket.\"\"\"\n",
    "    # bucket_name = \"your-bucket-name\"\n",
    "    # source_blob_name = \"storage-object-name\"\n",
    "    # destination_file_name = \"local/path/to/file\"\n",
    "\n",
    "    storage_client = storage.Client()\n",
    "\n",
    "    bucket = storage_client.bucket(bucket_name)\n",
    "    blob = bucket.blob(source_blob_name)\n",
    "    blob.download_to_filename(destination_file_name)\n",
    "\n",
    "    print(\n",
    "        \"Blob {} downloaded to {}.\".format(\n",
    "            source_blob_name, destination_file_name\n",
    "        )\n",
    "    )"
   ]
  },
  {
   "cell_type": "code",
   "execution_count": 9,
   "metadata": {},
   "outputs": [],
   "source": [
    "list_videos = ['2femix89pTE'] #['EmZtTd1YRmA', 'R-Yq1AlIwsc', 'TB5yhZdF8SI', '2femix89pTE']"
   ]
  },
  {
   "cell_type": "code",
   "execution_count": 10,
   "metadata": {},
   "outputs": [],
   "source": [
    "for vid in list_videos:\n",
    "    if not os.path.exists(f'data/videos/{vid}/'):\n",
    "            os.makedirs(f'data/videos/{vid}/')"
   ]
  },
  {
   "cell_type": "code",
   "execution_count": 11,
   "metadata": {},
   "outputs": [
    {
     "name": "stdout",
     "output_type": "stream",
     "text": [
      "Blob videos_files/F1/2femix89pTE/data.csv downloaded to data/videos/2femix89pTE/datos.csv.\n",
      "Blob videos_files/F1/2femix89pTE/frames.zip downloaded to data/videos/2femix89pTE/frames.zip.\n"
     ]
    }
   ],
   "source": [
    "for vid in list_videos:\n",
    "    try:\n",
    "        download_blob(bucket_name, f'videos_files/F1/{vid}/data.csv', f'data/videos/{vid}/datos.csv')\n",
    "        download_blob(bucket_name, f'videos_files/F1/{vid}/frames.zip', f'data/videos/{vid}/frames.zip')\n",
    "    except:\n",
    "        pass"
   ]
  },
  {
   "cell_type": "code",
   "execution_count": 12,
   "metadata": {},
   "outputs": [],
   "source": [
    "for vid in list_videos:\n",
    "    with zipfile.ZipFile(f'data/videos/{vid}/frames.zip', 'r') as zip_ref:\n",
    "            zip_ref.extractall(f'data/videos/{vid}/frames/')"
   ]
  },
  {
   "cell_type": "code",
   "execution_count": 36,
   "metadata": {},
   "outputs": [
    {
     "data": {
      "text/plain": [
       "['TB5yhZdF8SI']"
      ]
     },
     "execution_count": 36,
     "metadata": {},
     "output_type": "execute_result"
    }
   ],
   "source": [
    "list_videos"
   ]
  },
  {
   "cell_type": "code",
   "execution_count": null,
   "metadata": {},
   "outputs": [],
   "source": []
  }
 ],
 "metadata": {
  "kernelspec": {
   "display_name": "Python 3",
   "language": "python",
   "name": "python3"
  },
  "language_info": {
   "codemirror_mode": {
    "name": "ipython",
    "version": 3
   },
   "file_extension": ".py",
   "mimetype": "text/x-python",
   "name": "python",
   "nbconvert_exporter": "python",
   "pygments_lexer": "ipython3",
   "version": "3.7.4"
  }
 },
 "nbformat": 4,
 "nbformat_minor": 4
}
