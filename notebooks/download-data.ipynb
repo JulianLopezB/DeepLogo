{
 "cells": [
  {
   "cell_type": "code",
   "execution_count": 5,
   "metadata": {},
   "outputs": [
    {
     "name": "stdout",
     "output_type": "stream",
     "text": [
      "Requirement already up-to-date: six in /usr/local/lib/python3.6/dist-packages (1.15.0)\n",
      "\u001b[33mWARNING: You are using pip version 19.2.1, however version 20.2.4 is available.\n",
      "You should consider upgrading via the 'pip install --upgrade pip' command.\u001b[0m\n"
     ]
    }
   ],
   "source": [
    "#!pip install -r requirements.txt\n",
    "#!pip install --upgrade google-cloud-storage\n",
    "#!pip install --upgrade six"
   ]
  },
  {
   "cell_type": "code",
   "execution_count": 21,
   "metadata": {},
   "outputs": [],
   "source": [
    "from src.fetch_data import *\n",
    "from google.cloud import storage\n",
    "import zipfile"
   ]
  },
  {
   "cell_type": "code",
   "execution_count": 22,
   "metadata": {},
   "outputs": [],
   "source": [
    "storage_client = storage.Client(credentials=credentials)"
   ]
  },
  {
   "cell_type": "code",
   "execution_count": 23,
   "metadata": {},
   "outputs": [],
   "source": [
    "bucket_name = 'videos-detection'\n",
    "bucket = storage_client.get_bucket(bucket_name)"
   ]
  },
  {
   "cell_type": "code",
   "execution_count": 24,
   "metadata": {},
   "outputs": [
    {
     "name": "stdout",
     "output_type": "stream",
     "text": [
      "videos_files/\n",
      "videos_files/F1/\n",
      "videos_files/F1/2femix89pTE/annotations.csv\n",
      "videos_files/F1/2femix89pTE/data.csv\n",
      "videos_files/F1/2femix89pTE/results.json\n",
      "videos_files/F1/2femix89pTE/video.mp4\n",
      "videos_files/F1/EmZtTd1YRmA/annotations.csv\n",
      "videos_files/F1/EmZtTd1YRmA/data.csv\n",
      "videos_files/F1/EmZtTd1YRmA/frames.zip\n",
      "videos_files/F1/EmZtTd1YRmA/results.json\n",
      "videos_files/F1/EmZtTd1YRmA/video.mp4\n",
      "videos_files/F1/F1 Hamilton/\n",
      "videos_files/F1/F1 Hamilton/F1 Hamilton.mp4\n",
      "videos_files/F1/F1 Hamilton/annotations.csv\n",
      "videos_files/F1/F1 Hamilton/data.csv\n",
      "videos_files/F1/F1 Hamilton/frames.zip\n",
      "videos_files/F1/F1 Hamilton/result.json\n",
      "videos_files/Tennis/\n",
      "videos_files/Tennis/Roland Garros.mp4\n"
     ]
    }
   ],
   "source": [
    "# file_id = \"data.csv\" # File Name.\n",
    "# #folder= \"/google-cloud/download/{}\".format(table_id)\n",
    "# # Excluding any directory from the bucket.\n",
    "# delimiter='/'\n",
    "\n",
    "# List all objects that satisfy the filter.\n",
    "#blobs=bucket.list_blobs(prefix=file_id, delimiter=delimiter)\n",
    "blobs = storage_client.list_blobs(bucket_name)\n",
    "\n",
    "for blob in blobs:\n",
    "    print(blob.name)"
   ]
  },
  {
   "cell_type": "code",
   "execution_count": 25,
   "metadata": {},
   "outputs": [],
   "source": [
    "def download_blob(bucket_name, source_blob_name, destination_file_name):\n",
    "    \"\"\"Downloads a blob from the bucket.\"\"\"\n",
    "    # bucket_name = \"your-bucket-name\"\n",
    "    # source_blob_name = \"storage-object-name\"\n",
    "    # destination_file_name = \"local/path/to/file\"\n",
    "\n",
    "    storage_client = storage.Client()\n",
    "\n",
    "    bucket = storage_client.bucket(bucket_name)\n",
    "    blob = bucket.blob(source_blob_name)\n",
    "    blob.download_to_filename(destination_file_name)\n",
    "\n",
    "    print(\n",
    "        \"Blob {} downloaded to {}.\".format(\n",
    "            source_blob_name, destination_file_name\n",
    "        )\n",
    "    )"
   ]
  },
  {
   "cell_type": "code",
   "execution_count": 26,
   "metadata": {},
   "outputs": [],
   "source": [
    "for vid in ['EmZtTd1YRmA', '2femix89pTE', 'F1 Hamilton']:\n",
    "    if not os.path.exists(f'data/{vid}/'):\n",
    "            os.makedirs(f'data/{vid}/')"
   ]
  },
  {
   "cell_type": "code",
   "execution_count": 27,
   "metadata": {},
   "outputs": [
    {
     "name": "stdout",
     "output_type": "stream",
     "text": [
      "Blob videos_files/F1/EmZtTd1YRmA/data.csv downloaded to data/EmZtTd1YRmA/datos.csv.\n",
      "Blob videos_files/F1/EmZtTd1YRmA/frames.zip downloaded to data/EmZtTd1YRmA/frames.zip.\n",
      "Blob videos_files/F1/2femix89pTE/data.csv downloaded to data/2femix89pTE/datos.csv.\n",
      "Blob videos_files/F1/F1 Hamilton/data.csv downloaded to data/F1 Hamilton/datos.csv.\n",
      "Blob videos_files/F1/F1 Hamilton/frames.zip downloaded to data/F1 Hamilton/frames.zip.\n"
     ]
    }
   ],
   "source": [
    "for vid in ['EmZtTd1YRmA', '2femix89pTE', 'F1 Hamilton']:\n",
    "    try:\n",
    "        download_blob(bucket_name, f'videos_files/F1/{vid}/data.csv', f'data/{vid}/datos.csv')\n",
    "        download_blob(bucket_name, f'videos_files/F1/{vid}/frames.zip', f'data/{vid}/frames.zip')\n",
    "    except:\n",
    "        pass"
   ]
  },
  {
   "cell_type": "code",
   "execution_count": 28,
   "metadata": {},
   "outputs": [],
   "source": [
    "for vid in ['EmZtTd1YRmA', 'F1 Hamilton']:\n",
    "    with zipfile.ZipFile(f'data/{vid}/frames.zip', 'r') as zip_ref:\n",
    "            zip_ref.extractall(f'.')"
   ]
  },
  {
   "cell_type": "code",
   "execution_count": null,
   "metadata": {},
   "outputs": [],
   "source": [
    "os.system(f\"unzip data/F1/{vid}/frames.zip -d data/{vid}/frames_resized/\")\n",
    "        with zipfile.ZipFile(f'data/{vid}/frames.zip', 'r') as zip_ref:\n",
    "            zip_ref.extractall(f'frames/')"
   ]
  },
  {
   "cell_type": "code",
   "execution_count": null,
   "metadata": {},
   "outputs": [],
   "source": []
  }
 ],
 "metadata": {
  "kernelspec": {
   "display_name": "Python 3",
   "language": "python",
   "name": "python3"
  },
  "language_info": {
   "codemirror_mode": {
    "name": "ipython",
    "version": 3
   },
   "file_extension": ".py",
   "mimetype": "text/x-python",
   "name": "python",
   "nbconvert_exporter": "python",
   "pygments_lexer": "ipython3",
   "version": "3.6.8"
  }
 },
 "nbformat": 4,
 "nbformat_minor": 4
}
