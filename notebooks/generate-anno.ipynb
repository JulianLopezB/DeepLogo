{
 "cells": [
  {
   "cell_type": "code",
   "execution_count": 1,
   "metadata": {},
   "outputs": [],
   "source": [
    "%load_ext autoreload\n",
    "%autoreload 2"
   ]
  },
  {
   "cell_type": "code",
   "execution_count": 2,
   "metadata": {},
   "outputs": [],
   "source": [
    "import pandas as pd\n",
    "from pathlib import Path\n",
    "import glob\n",
    "import pafy\n",
    "import youtube_dl\n",
    "import io\n",
    "from PIL import Image\n",
    "from tqdm import tqdm_notebook, tqdm\n",
    "import cv2\n",
    "import json\n",
    "from tqdm import tqdm_notebook as tqdm\n",
    "from pathlib import Path\n",
    "import os\n",
    "import math\n",
    "import datetime\n",
    "from google.protobuf.json_format import MessageToJson\n",
    "import ast\n",
    "\n",
    "\n",
    "#from google.cloud import videointelligence_v1p3beta1 as videointelligence\n",
    "from google.cloud import videointelligence\n",
    "from google.oauth2 import service_account"
   ]
  },
  {
   "cell_type": "code",
   "execution_count": 12,
   "metadata": {},
   "outputs": [],
   "source": [
    "video_url = \"https://www.youtube.com/watch?v=I84eb-B0l94\"\n",
    "\n",
    "video_title = '2femix89pTE'\n",
    "\n",
    "#video_uri = 'gs://videos-detection/videos_files/F1/2020 Eifel Grand Prix/2020 Eifel Grand Prix.mkv'\n",
    "\n",
    "path_data = Path('../data/')\n",
    "path_json = path_data / 'logo-detection.json'\n",
    "pathIn = path_data / str(video_title + '/input/')\n",
    "pathIn_Video = pathIn / str(video_title + '.mp4')\n",
    "pathIn_Frames =  pathIn / 'frames'\n",
    "pathIn_Frames_Resized = pathIn / 'frames_resized'\n",
    "\n",
    "pathOut = path_data / str(video_title + '/output/')\n",
    "path_results= pathOut / 'result.json'\n",
    "path_annotations = pathOut / 'annotations.csv'\n",
    "path_logos_video = pathOut / 'Logos.mp4'"
   ]
  },
  {
   "cell_type": "code",
   "execution_count": 8,
   "metadata": {},
   "outputs": [
    {
     "data": {
      "text/plain": [
       "'I84eb-B0l94'"
      ]
     },
     "execution_count": 8,
     "metadata": {},
     "output_type": "execute_result"
    }
   ],
   "source": [
    "import urllib\n",
    "def get_video_id(video_url):\n",
    "    url_data = urllib.parse.urlparse(video_url)\n",
    "    query = urllib.parse.parse_qs(url_data.query)\n",
    "    return query[\"v\"][0]"
   ]
  },
  {
   "cell_type": "code",
   "execution_count": 7,
   "metadata": {},
   "outputs": [],
   "source": [
    "import io\n",
    "with io.open(pathIn_Video, 'rb') as f:\n",
    "    input_video = f.read()"
   ]
  },
  {
   "cell_type": "code",
   "execution_count": 14,
   "metadata": {},
   "outputs": [
    {
     "data": {
      "text/plain": [
       "b\"b'\\\\x00\\\\x00\\\\x00 ftypisom\\\\x00\\\\x00\\\\x02\\\\x00isomiso2avc1mp41\\\\x00\\\\x00\\\\x00\\\\x08free\\\\x02\\\\xea\\\\x82,mdat\\\\x00\\\\x00\""
      ]
     },
     "execution_count": 14,
     "metadata": {},
     "output_type": "execute_result"
    }
   ],
   "source": [
    "ii = str(input_video).encode('utf-8')\n",
    "ii[:100]"
   ]
  },
  {
   "cell_type": "code",
   "execution_count": 7,
   "metadata": {},
   "outputs": [],
   "source": [
    "credentials = service_account.Credentials.from_service_account_file(path_json)\n",
    "os.environ['GOOGLE_APPLICATION_CREDENTIALS'] = str(path_json)"
   ]
  },
  {
   "cell_type": "code",
   "execution_count": 18,
   "metadata": {},
   "outputs": [],
   "source": [
    "def create_paths():\n",
    "\n",
    "    if not os.path.exists(pathOut):\n",
    "        os.makedirs(pathOut)\n",
    "\n",
    "    if not os.path.exists(pathIn_Frames):\n",
    "        os.makedirs(pathIn_Frames)\n",
    "        \n",
    "    if not os.path.exists(pathIn_Frames_Resized):\n",
    "        os.makedirs(pathIn_Frames_Resized)\n",
    "    \n",
    "def load_videos(video_file):\n",
    "    \n",
    "    capture = cv2.VideoCapture(video_file)\n",
    "\n",
    "    fps = capture.get(cv2.CAP_PROP_FPS)\n",
    "    \n",
    "    read_flag, frame = capture.read()\n",
    "    \n",
    "    vid_frames = []\n",
    "\n",
    "    while (read_flag):\n",
    "        \n",
    "        vid_frames.append(frame)\n",
    "        \n",
    "        read_flag, frame = capture.read()\n",
    "        \n",
    "    vid_frames = np.asarray(vid_frames, dtype='uint8')\n",
    "    \n",
    "    capture.release()\n",
    "    \n",
    "    return vid_frames, fps\n",
    "\n",
    "def annotate_video(input_video, local=False):\n",
    "    \"\"\"\n",
    "    Performs asynchronous video annotation for logo recognition on a local file.\n",
    "\n",
    "    \"\"\"\n",
    "    client = videointelligence.VideoIntelligenceServiceClient(credentials=credentials)\n",
    "\n",
    "    if local:\n",
    "        with io.open(input_video, 'rb') as f:\n",
    "            input_video = f.read()\n",
    "        \n",
    "    features = [videointelligence.enums.Feature.LOGO_RECOGNITION]\n",
    "    operation = client.annotate_video(input_video, features=features)\n",
    "    print('\\nProcessing video for logo annotations:')\n",
    "    \n",
    "    print(u'Waiting for operation to complete...')\n",
    "    response = operation.result(timeout=1000)\n",
    "    print('\\nFinished processing.')\n",
    "  \n",
    "    return response\n",
    "\n",
    "def video_to_frames(vid_input, pathOut):\n",
    "\n",
    "    #start the video\n",
    "    \n",
    "    fourcc = cv.VideoWriter_fourcc(*'XVID')\n",
    "    out = cv.VideoWriter('output.avi', fourcc, 20.0, (640,  480))\n",
    "\n",
    "    cap = cv2.VideoCapture(str(vid_input))\n",
    "\n",
    "    if (cap.isOpened()== False): \n",
    "        print(\"Error opening video stream or file\")\n",
    "\n",
    "    count = 0\n",
    "\n",
    "    while(cap.isOpened()):\n",
    "\n",
    "        #Capture frame-by-frame\n",
    "        ret, frame = cap.read()\n",
    "\n",
    "        if ret==True:\n",
    "\n",
    "            write_frame(count, frame, pathOut)\n",
    "\n",
    "            ret, frame = cap.read()\n",
    "            count += 1\n",
    "            wait = cv2.waitKey(10)\n",
    "\n",
    "            if wait==27 & 0xFF == ord('q'):\n",
    "                break   \n",
    "\n",
    "        else:\n",
    "            break\n",
    "\n",
    "    cap.release()\n",
    "    cv2.destroyAllWindows()\n",
    "\n",
    "\n",
    "def write_frame(count, frame, pathOut):\n",
    "\n",
    "    cv2.imwrite(str(pathOut / f'frame{count}.jpg'), frame)\n",
    "\n",
    "    if not cv2.imwrite(str(pathOut / f'frame{count}.jpg'), frame):\n",
    "        raise Exception(\"Could not write image\")\n",
    "        \n",
    "def download_video(video_url, pathIn_Video):\n",
    "    \"\"\"\n",
    "    Download a video using youtube url and video title\n",
    "    \"\"\"\n",
    "\n",
    "    ydl_opts = {'outtmpl': str(pathIn_Video)}\n",
    "    \n",
    "    with youtube_dl.YoutubeDL(ydl_opts) as ydl:\n",
    "        ydl.download([video_url])\n",
    "        \n",
    "def download_video_2(video_url, pathIn_Video):\n",
    "    \"\"\"\n",
    "    Download a video using youtube url and video title\n",
    "    \"\"\"\n",
    "    from pytube import YouTube\n",
    "    yt = YouTube(video_url)\n",
    "    yt = yt.get('mp4', '720p')\n",
    "    yt.download(str(pathIn_Video))\n",
    "\n",
    "        \n",
    "def anno_to_pandas(pathIn_Video, result):\n",
    "\n",
    "    vcap = cv2.VideoCapture(str(pathIn_Video))\n",
    "\n",
    "    fps = vcap.get(cv2.CAP_PROP_FPS)\n",
    "    width, height = (int(vcap.get(cv2.CAP_PROP_FRAME_WIDTH)),\n",
    "            int(vcap.get(cv2.CAP_PROP_FRAME_HEIGHT)))\n",
    "\n",
    "    annotation_result = result['annotationResults'][0]\n",
    "    \n",
    "    DfLogos = pd.DataFrame()\n",
    "\n",
    "    for label in tqdm(annotation_result['logoRecognitionAnnotations']):\n",
    "        for track in label['tracks']:\n",
    "            confidence = track['confidence']\n",
    "            for idx, anno in enumerate(track['timestampedObjects']):\n",
    "                \n",
    "                micro, seconds = math.modf(float(anno['timeOffset'].replace('s', '')))\n",
    "                bounding_box = dict()\n",
    "                anno_bounding_box = anno['normalizedBoundingBox']\n",
    "                for key in ['top', 'bottom', 'left', 'right']:\n",
    "                    bounding_box[key] = anno_bounding_box.get(key, 0)\n",
    "\n",
    "                df_tmp = pd.DataFrame({'seconds': seconds,\n",
    "                                       'micro': micro,\n",
    "                                       'frame': int((seconds + micro)*fps/2)+1,\n",
    "                                       'logo': label['entity']['description'],\n",
    "                                       'x1': int(bounding_box['left']*width), \n",
    "                                       'y1': int(bounding_box['top']*height),\n",
    "                                       'x2': int(bounding_box['right']*width),\n",
    "                                       'y2': int(bounding_box['top']*height),\n",
    "                                       'x3': int(bounding_box['right']*width),\n",
    "                                       'y3': int(bounding_box['bottom']*height),\n",
    "                                       'x4': int(bounding_box['left']*width),\n",
    "                                       'y4': int(bounding_box['bottom']*height),\n",
    "                                       'conficence': confidence}, index=[idx])\n",
    "                DfLogos = DfLogos.append(df_tmp, sort=False, ignore_index=True)\n",
    "\n",
    "    return DfLogos\n",
    "\n",
    "def video_url_to_frames(video_url, pathOut):\n",
    "\n",
    "    ydl_opts = {}\n",
    "\n",
    "    # create youtube-dl object\n",
    "    ydl = youtube_dl.YoutubeDL(ydl_opts)\n",
    "\n",
    "    # set video url, extract video information\n",
    "    info_dict = ydl.extract_info(video_url, download=False)\n",
    "\n",
    "    # get video formats available\n",
    "    formats = info_dict.get('formats',None)\n",
    "\n",
    "    for f in formats:\n",
    "\n",
    "        # I want the lowest resolution, so I set resolution as 144p\n",
    "        if f.get('format_note',None) == '144p':\n",
    "\n",
    "            #get the video url\n",
    "            url = f.get('url',None)\n",
    "            \n",
    "            cap = cv2.VideoCapture(url)\n",
    "\n",
    "            if (cap.isOpened()== False): \n",
    "                print(\"Error opening video stream or file\")\n",
    "\n",
    "            count = 0\n",
    "\n",
    "            while(cap.isOpened()):\n",
    "\n",
    "                #Capture frame-by-frame\n",
    "                ret, frame = cap.read()\n",
    "\n",
    "                if ret==True:\n",
    "\n",
    "                    write_frame(count, frame, pathOut)\n",
    "\n",
    "                    ret, frame = cap.read()\n",
    "                    count += 1\n",
    "                    wait = cv2.waitKey(10)\n",
    "\n",
    "                    if wait==27 & 0xFF == ord('q'):\n",
    "                        break   \n",
    "\n",
    "                else:\n",
    "                    break\n",
    "            \n",
    "\n",
    "#             # open url with opencv\n",
    "#             cap = cv2.VideoCapture(url)\n",
    "\n",
    "#             # check if url was opened\n",
    "#             if not cap.isOpened():\n",
    "#                 print('video not opened')\n",
    "#                 exit(-1)\n",
    "\n",
    "#             ret, frame = cap.read()\n",
    "#             count = 0\n",
    "#             while True:\n",
    "                \n",
    "#                 write_frame(count, frame, pathOut)\n",
    "                    \n",
    "#                 # read frame\n",
    "#                 ret, frame = cap.read()\n",
    "                \n",
    "#                 count += 1\n",
    "                \n",
    "#                 # check if frame is empty\n",
    "#                 if not ret:\n",
    "#                     break\n",
    "\n",
    "#                 # display frame\n",
    "#                 cv2.imshow('frame', frame)\n",
    "\n",
    "#                 if cv2.waitKey(30)&0xFF == ord('q'):\n",
    "#                     break\n",
    "\n",
    "            # release VideoCapture\n",
    "            cap.release()\n",
    "\n",
    "    cv2.destroyAllWindows()\n",
    "    "
   ]
  },
  {
   "cell_type": "code",
   "execution_count": 5,
   "metadata": {},
   "outputs": [
    {
     "data": {
      "text/html": [
       "\n",
       "        <iframe\n",
       "            width=\"400\"\n",
       "            height=\"300\"\n",
       "            src=\"https://www.youtube.com/embed/https://www.youtube.com/watch?v=2femix89pTE\"\n",
       "            frameborder=\"0\"\n",
       "            allowfullscreen\n",
       "        ></iframe>\n",
       "        "
      ],
      "text/plain": [
       "<IPython.lib.display.YouTubeVideo at 0x1263c49d0>"
      ]
     },
     "execution_count": 5,
     "metadata": {},
     "output_type": "execute_result"
    }
   ],
   "source": [
    "from IPython.display import YouTubeVideo\n",
    "YouTubeVideo(video_url)"
   ]
  },
  {
   "cell_type": "code",
   "execution_count": 143,
   "metadata": {},
   "outputs": [],
   "source": [
    "create_paths()"
   ]
  },
  {
   "cell_type": "code",
   "execution_count": null,
   "metadata": {},
   "outputs": [],
   "source": [
    "download_video(video_url, pathIn_Video)"
   ]
  },
  {
   "cell_type": "code",
   "execution_count": 11,
   "metadata": {},
   "outputs": [],
   "source": [
    "#download_video_2(video_url, pathIn_Video)"
   ]
  },
  {
   "cell_type": "code",
   "execution_count": 8,
   "metadata": {},
   "outputs": [],
   "source": [
    "# aca habria q llamar a una funcion que suba el video a cloud storage"
   ]
  },
  {
   "cell_type": "code",
   "execution_count": 1,
   "metadata": {},
   "outputs": [
    {
     "ename": "NameError",
     "evalue": "name 'annotate_video' is not defined",
     "output_type": "error",
     "traceback": [
      "\u001b[0;31m---------------------------------------------------------------------------\u001b[0m",
      "\u001b[0;31mNameError\u001b[0m                                 Traceback (most recent call last)",
      "\u001b[0;32m<ipython-input-1-01a9895765c2>\u001b[0m in \u001b[0;36m<module>\u001b[0;34m\u001b[0m\n\u001b[0;32m----> 1\u001b[0;31m \u001b[0mresult\u001b[0m \u001b[0;34m=\u001b[0m \u001b[0mannotate_video\u001b[0m\u001b[0;34m(\u001b[0m\u001b[0mpathIn_Video\u001b[0m\u001b[0;34m,\u001b[0m \u001b[0;32mTrue\u001b[0m\u001b[0;34m)\u001b[0m\u001b[0;34m\u001b[0m\u001b[0;34m\u001b[0m\u001b[0m\n\u001b[0m\u001b[1;32m      2\u001b[0m \u001b[0;31m#result = annotate_video(video_uri)\u001b[0m\u001b[0;34m\u001b[0m\u001b[0;34m\u001b[0m\u001b[0;34m\u001b[0m\u001b[0m\n",
      "\u001b[0;31mNameError\u001b[0m: name 'annotate_video' is not defined"
     ]
    }
   ],
   "source": [
    "result = annotate_video(pathIn_Video, True)\n",
    "#result = annotate_video(video_uri)"
   ]
  },
  {
   "cell_type": "code",
   "execution_count": 163,
   "metadata": {},
   "outputs": [
    {
     "name": "stdout",
     "output_type": "stream",
     "text": [
      "[youtube] 2femix89pTE: Downloading webpage\n",
      "[youtube] 2femix89pTE: Downloading video info webpage\n"
     ]
    }
   ],
   "source": [
    "#video_to_frames(pathIn_Video, pathIn_Frames)\n",
    "video_url_to_frames(video_url, pathIn_Frames)"
   ]
  },
  {
   "cell_type": "code",
   "execution_count": 145,
   "metadata": {},
   "outputs": [],
   "source": [
    "def persist_result(result, path_results):\n",
    "    serialized = MessageToJson(result)\n",
    "    serialized = ast.literal_eval(serialized)\n",
    "    with open(str(path_results), 'w') as f:\n",
    "        json.dump(serialized, f)"
   ]
  },
  {
   "cell_type": "code",
   "execution_count": 146,
   "metadata": {},
   "outputs": [],
   "source": [
    "persist_result(result, path_results)"
   ]
  },
  {
   "cell_type": "code",
   "execution_count": 10,
   "metadata": {},
   "outputs": [],
   "source": [
    "def load_result(path_results):\n",
    "    with open(str(path_results), 'r') as data:\n",
    "        results = json.loads(data.read())\n",
    "    return results"
   ]
  },
  {
   "cell_type": "code",
   "execution_count": 13,
   "metadata": {},
   "outputs": [],
   "source": [
    "results = load_result(path_results)"
   ]
  },
  {
   "cell_type": "code",
   "execution_count": 15,
   "metadata": {},
   "outputs": [
    {
     "data": {
      "text/plain": [
       "[{'inputUri': '/videos-detection/videos_files/F1/2femix89pTE/video.mp4',\n",
       "  'error': {'code': 15,\n",
       "   'message': 'Calculator failed, commonly caused by invalid video, or unsupported format, or file not found, or permission denied.'}}]"
      ]
     },
     "execution_count": 15,
     "metadata": {},
     "output_type": "execute_result"
    }
   ],
   "source": [
    "results['annotationResults']"
   ]
  },
  {
   "cell_type": "code",
   "execution_count": 157,
   "metadata": {},
   "outputs": [
    {
     "name": "stderr",
     "output_type": "stream",
     "text": [
      "/Users/julian/opt/anaconda3/lib/python3.7/site-packages/ipykernel_launcher.py:128: TqdmDeprecationWarning: This function will be removed in tqdm==5.0.0\n",
      "Please use `tqdm.notebook.tqdm` instead of `tqdm.tqdm_notebook`\n"
     ]
    },
    {
     "data": {
      "application/vnd.jupyter.widget-view+json": {
       "model_id": "29a2c72fcda94bb5a509a8fe2774c212",
       "version_major": 2,
       "version_minor": 0
      },
      "text/plain": [
       "HBox(children=(FloatProgress(value=0.0, max=32.0), HTML(value='')))"
      ]
     },
     "metadata": {},
     "output_type": "display_data"
    },
    {
     "name": "stdout",
     "output_type": "stream",
     "text": [
      "\n"
     ]
    },
    {
     "data": {
      "text/html": [
       "<div>\n",
       "<style scoped>\n",
       "    .dataframe tbody tr th:only-of-type {\n",
       "        vertical-align: middle;\n",
       "    }\n",
       "\n",
       "    .dataframe tbody tr th {\n",
       "        vertical-align: top;\n",
       "    }\n",
       "\n",
       "    .dataframe thead th {\n",
       "        text-align: right;\n",
       "    }\n",
       "</style>\n",
       "<table border=\"1\" class=\"dataframe\">\n",
       "  <thead>\n",
       "    <tr style=\"text-align: right;\">\n",
       "      <th></th>\n",
       "      <th>seconds</th>\n",
       "      <th>micro</th>\n",
       "      <th>frame</th>\n",
       "      <th>logo</th>\n",
       "      <th>x1</th>\n",
       "      <th>y1</th>\n",
       "      <th>x2</th>\n",
       "      <th>y2</th>\n",
       "      <th>x3</th>\n",
       "      <th>y3</th>\n",
       "      <th>x4</th>\n",
       "      <th>y4</th>\n",
       "      <th>conficence</th>\n",
       "    </tr>\n",
       "  </thead>\n",
       "  <tbody>\n",
       "    <tr>\n",
       "      <th>968</th>\n",
       "      <td>0.0</td>\n",
       "      <td>0.1</td>\n",
       "      <td>2</td>\n",
       "      <td>Grupo Radio Centro</td>\n",
       "      <td>698</td>\n",
       "      <td>437</td>\n",
       "      <td>739</td>\n",
       "      <td>437</td>\n",
       "      <td>739</td>\n",
       "      <td>483</td>\n",
       "      <td>698</td>\n",
       "      <td>483</td>\n",
       "      <td>0.882708</td>\n",
       "    </tr>\n",
       "    <tr>\n",
       "      <th>969</th>\n",
       "      <td>0.0</td>\n",
       "      <td>0.2</td>\n",
       "      <td>3</td>\n",
       "      <td>Grupo Radio Centro</td>\n",
       "      <td>701</td>\n",
       "      <td>440</td>\n",
       "      <td>742</td>\n",
       "      <td>440</td>\n",
       "      <td>742</td>\n",
       "      <td>486</td>\n",
       "      <td>701</td>\n",
       "      <td>486</td>\n",
       "      <td>0.882708</td>\n",
       "    </tr>\n",
       "    <tr>\n",
       "      <th>970</th>\n",
       "      <td>0.0</td>\n",
       "      <td>0.3</td>\n",
       "      <td>4</td>\n",
       "      <td>Grupo Radio Centro</td>\n",
       "      <td>703</td>\n",
       "      <td>444</td>\n",
       "      <td>745</td>\n",
       "      <td>444</td>\n",
       "      <td>745</td>\n",
       "      <td>490</td>\n",
       "      <td>703</td>\n",
       "      <td>490</td>\n",
       "      <td>0.882708</td>\n",
       "    </tr>\n",
       "    <tr>\n",
       "      <th>477</th>\n",
       "      <td>0.0</td>\n",
       "      <td>0.3</td>\n",
       "      <td>4</td>\n",
       "      <td>Red Bull</td>\n",
       "      <td>1665</td>\n",
       "      <td>552</td>\n",
       "      <td>1719</td>\n",
       "      <td>552</td>\n",
       "      <td>1719</td>\n",
       "      <td>627</td>\n",
       "      <td>1665</td>\n",
       "      <td>627</td>\n",
       "      <td>0.917755</td>\n",
       "    </tr>\n",
       "    <tr>\n",
       "      <th>491</th>\n",
       "      <td>0.0</td>\n",
       "      <td>0.4</td>\n",
       "      <td>6</td>\n",
       "      <td>Red Bull</td>\n",
       "      <td>284</td>\n",
       "      <td>325</td>\n",
       "      <td>425</td>\n",
       "      <td>325</td>\n",
       "      <td>425</td>\n",
       "      <td>423</td>\n",
       "      <td>284</td>\n",
       "      <td>423</td>\n",
       "      <td>0.952237</td>\n",
       "    </tr>\n",
       "  </tbody>\n",
       "</table>\n",
       "</div>"
      ],
      "text/plain": [
       "     seconds  micro  frame                logo    x1   y1    x2   y2    x3  \\\n",
       "968      0.0    0.1      2  Grupo Radio Centro   698  437   739  437   739   \n",
       "969      0.0    0.2      3  Grupo Radio Centro   701  440   742  440   742   \n",
       "970      0.0    0.3      4  Grupo Radio Centro   703  444   745  444   745   \n",
       "477      0.0    0.3      4            Red Bull  1665  552  1719  552  1719   \n",
       "491      0.0    0.4      6            Red Bull   284  325   425  325   425   \n",
       "\n",
       "      y3    x4   y4  conficence  \n",
       "968  483   698  483    0.882708  \n",
       "969  486   701  486    0.882708  \n",
       "970  490   703  490    0.882708  \n",
       "477  627  1665  627    0.917755  \n",
       "491  423   284  423    0.952237  "
      ]
     },
     "execution_count": 157,
     "metadata": {},
     "output_type": "execute_result"
    }
   ],
   "source": [
    "# url = generate_image_url('F1 Hamilton.mp4', 'videos-detection')\n",
    "# req.urlretrieve(url, \"F1 Hamilton.mp4\")\n",
    "\n",
    "DfLogos = anno_to_pandas(pathIn_Video, results)\n",
    "DfLogos = DfLogos.sort_values(by='frame')\n",
    "DfLogos.head()"
   ]
  },
  {
   "cell_type": "code",
   "execution_count": 158,
   "metadata": {},
   "outputs": [],
   "source": [
    "DfLogos.to_csv(str(path_annotations))"
   ]
  },
  {
   "cell_type": "code",
   "execution_count": null,
   "metadata": {},
   "outputs": [],
   "source": []
  },
  {
   "cell_type": "code",
   "execution_count": null,
   "metadata": {},
   "outputs": [],
   "source": []
  },
  {
   "cell_type": "code",
   "execution_count": null,
   "metadata": {},
   "outputs": [],
   "source": []
  },
  {
   "cell_type": "code",
   "execution_count": null,
   "metadata": {},
   "outputs": [],
   "source": []
  }
 ],
 "metadata": {
  "kernelspec": {
   "display_name": "Python 3",
   "language": "python",
   "name": "python3"
  },
  "language_info": {
   "codemirror_mode": {
    "name": "ipython",
    "version": 3
   },
   "file_extension": ".py",
   "mimetype": "text/x-python",
   "name": "python",
   "nbconvert_exporter": "python",
   "pygments_lexer": "ipython3",
   "version": "3.7.4"
  }
 },
 "nbformat": 4,
 "nbformat_minor": 2
}
