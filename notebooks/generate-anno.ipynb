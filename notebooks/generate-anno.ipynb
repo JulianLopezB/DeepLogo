{
 "cells": [
  {
   "cell_type": "code",
   "execution_count": 8,
   "metadata": {},
   "outputs": [
    {
     "name": "stdout",
     "output_type": "stream",
     "text": [
      "/Users/julian/Desktop/Projects/DeepLogo\n"
     ]
    }
   ],
   "source": [
    "cd .."
   ]
  },
  {
   "cell_type": "code",
   "execution_count": 9,
   "metadata": {},
   "outputs": [
    {
     "name": "stdout",
     "output_type": "stream",
     "text": [
      "The autoreload extension is already loaded. To reload it, use:\n",
      "  %reload_ext autoreload\n"
     ]
    }
   ],
   "source": [
    "%load_ext autoreload\n",
    "%autoreload 2"
   ]
  },
  {
   "cell_type": "code",
   "execution_count": 12,
   "metadata": {},
   "outputs": [],
   "source": [
    "from src.video_processing import *\n",
    "from src.fetch_data import *"
   ]
  },
  {
   "cell_type": "code",
   "execution_count": 13,
   "metadata": {},
   "outputs": [],
   "source": [
    "#PATHS\n",
    "video_url = \"https://www.youtube.com/watch?v=2femix89pTE&t=4s\"\n",
    "#video_title = '2020 Eifel Grand Prix Race Highlights'\n",
    "video_title = get_video_id(video_url)\n",
    "video_category = 'F1'\n",
    "\n",
    "\n",
    "# GCLOUD STORAGE PARAMS\n",
    "bucket_name = 'videos-detection'\n",
    "video_category = 'F1'\n",
    "blob_path_video = f'videos_files/{video_category}/{video_title}/video.mp4'\n",
    "uri_video = f'gs://{bucket_name}/'+blob_path_video\n",
    "\n",
    "path_data = Path('./data')\n",
    "pathIn = path_data / str(video_title + '/input/')\n",
    "pathIn_Video = pathIn / str(video_title + '.mp4')\n",
    "pathIn_Frames =  pathIn / 'frames'\n",
    "pathIn_Frames_Resized = pathIn / 'frames_resized'\n",
    "\n",
    "pathOut = path_data / str(video_title + '/output/')\n",
    "path_results= pathOut / 'result.json'\n",
    "path_annotations = pathOut / 'annotations.csv'\n",
    "path_logos_video = pathOut / f'{video_title} - Logos.mp4'\n",
    "\n",
    "#PARMAS\n",
    "credentials = service_account.Credentials.from_service_account_file(path_json)\n",
    "os.environ['GOOGLE_APPLICATION_CREDENTIALS'] = str(path_json)"
   ]
  },
  {
   "cell_type": "code",
   "execution_count": 14,
   "metadata": {},
   "outputs": [
    {
     "name": "stdout",
     "output_type": "stream",
     "text": [
      "Creating paths...\n"
     ]
    }
   ],
   "source": [
    "# Creates necssary paths\n",
    "print('Creating paths...')\n",
    "create_paths(pathOut, pathIn_Frames, pathIn_Frames_Resized)"
   ]
  },
  {
   "cell_type": "code",
   "execution_count": 15,
   "metadata": {},
   "outputs": [
    {
     "name": "stdout",
     "output_type": "stream",
     "text": [
      "Video already stored in local host\n"
     ]
    }
   ],
   "source": [
    "# Download Video\n",
    "if not os.path.isfile(str(pathIn_Video)):\n",
    "    if os.path.isfile(str(pathIn / str(video_title + '.mkv'))):\n",
    "        pathIn_Video = pathIn / str(video_title + '.mkv')\n",
    "        print('Video already stored in local host')\n",
    "    else:\n",
    "        print(f'Downloading video from YouTube\\'s url {video_url}...')\n",
    "        download_video(video_url, pathIn_Video)\n",
    "    #req.urlretrieve(video_url, pathIn_Video)\n",
    "else:\n",
    "    print('Video already stored in local host')"
   ]
  },
  {
   "cell_type": "code",
   "execution_count": null,
   "metadata": {},
   "outputs": [
    {
     "name": "stdout",
     "output_type": "stream",
     "text": [
      "Video not stored in GCloud\n",
      "Uploading video file to GCloud...\n"
     ]
    }
   ],
   "source": [
    "if not is_stored(blob_path_video, bucket_name):\n",
    "    print('Video not stored in GCloud')\n",
    "    # Upload video-file to GCloud\n",
    "    print('Uploading video file to GCloud...')\n",
    "    #upload_blob(bucket_name, str(pathIn_Video), blob_path_video)\n",
    "    retry_on_connectionerror(upload_blob(bucket_name, str(pathIn_Video), blob_path_video))\n",
    "    #os.remove(pathIn_Video)\n",
    "else:\n",
    "    #print('Video file already stored in GCloud')\n",
    "    #print('Downloading tmp video file from GCloud...')\n",
    "    # Download video file from GCloud\n",
    "    #url = generate_image_url(blob_path_video, bucket_name)\n",
    "    #req.urlretrieve(url, pathIn_Video)\n",
    "    pass"
   ]
  },
  {
   "cell_type": "code",
   "execution_count": null,
   "metadata": {},
   "outputs": [],
   "source": [
    "if not os.path.isfile(str(path_results)):\n",
    "    # Generate annotated data from Google VideoIntelligence\n",
    "    print('Getting video annotations from VideoIntelligence API...')\n",
    "    result = get_video_anno(uri_video)\n",
    "\n",
    "    # Save annotations as json file\n",
    "    print('Persisting video annotations...')\n",
    "    persist_result(result, path_results)\n",
    "\n",
    "else:\n",
    "    print('Annotations already generated for this video')\n",
    "    result = results = load_result(path_results)"
   ]
  },
  {
   "cell_type": "code",
   "execution_count": null,
   "metadata": {},
   "outputs": [],
   "source": [
    "# Get frames from video and save them\n",
    "print('Saving video frames...')\n",
    "video_to_frames(pathIn_Video, pathIn_Frames)\n",
    "#video_url_to_frames(video_url, pathIn_Frames)"
   ]
  },
  {
   "cell_type": "code",
   "execution_count": null,
   "metadata": {},
   "outputs": [],
   "source": [
    "# Creates dataframe with annotations\n",
    "print('Creating dataframe with annotations...')\n",
    "DfLogos = anno_to_pandas(pathIn_Video, result)\n",
    "DfLogos = DfLogos.sort_values(by='frame')\n",
    "\n",
    "# Save annotations\n",
    "print('Saving annotations as csv file...')\n",
    "DfLogos.to_csv(str(path_annotations))"
   ]
  }
 ],
 "metadata": {
  "kernelspec": {
   "display_name": "Python 3",
   "language": "python",
   "name": "python3"
  },
  "language_info": {
   "codemirror_mode": {
    "name": "ipython",
    "version": 3
   },
   "file_extension": ".py",
   "mimetype": "text/x-python",
   "name": "python",
   "nbconvert_exporter": "python",
   "pygments_lexer": "ipython3",
   "version": "3.7.4"
  }
 },
 "nbformat": 4,
 "nbformat_minor": 2
}
